{
 "cells": [
  {
   "cell_type": "code",
   "execution_count": 1,
   "metadata": {},
   "outputs": [],
   "source": [
    "# Configure Jupyter so figures appear in the notebook\n",
    "%matplotlib inline\n",
    "\n",
    "# Configure Jupyter to display the assigned value after an assignment\n",
    "%config InteractiveShell.ast_node_interactivity='last_expr_or_assign'\n",
    "\n",
    "# import functions from the modsim.py module\n",
    "from modsim import *"
   ]
  },
  {
   "cell_type": "code",
   "execution_count": 2,
   "metadata": {},
   "outputs": [
    {
     "data": {
      "text/html": [
       "pascal"
      ],
      "text/latex": [
       "$pascal$"
      ],
      "text/plain": [
       "<Unit('pascal')>"
      ]
     },
     "execution_count": 2,
     "metadata": {},
     "output_type": "execute_result"
    }
   ],
   "source": [
    "# Create units for model\n",
    "m = UNITS.meter\n",
    "s = UNITS.seconds\n",
    "kg = UNITS.kilogram\n",
    "degree = UNITS.degree\n",
    "N = UNITS.newton\n",
    "K = UNITS.kelvin\n",
    "C = UNITS.celsius\n",
    "F = UNITS.fahrenheit\n",
    "W = UNITS.watt\n",
    "J = UNITS.joule\n",
    "Pa = UNITS.pascal"
   ]
  },
  {
   "cell_type": "code",
   "execution_count": 3,
   "metadata": {},
   "outputs": [
    {
     "data": {
      "text/html": [
       "<div>\n",
       "<style scoped>\n",
       "    .dataframe tbody tr th:only-of-type {\n",
       "        vertical-align: middle;\n",
       "    }\n",
       "\n",
       "    .dataframe tbody tr th {\n",
       "        vertical-align: top;\n",
       "    }\n",
       "\n",
       "    .dataframe thead th {\n",
       "        text-align: right;\n",
       "    }\n",
       "</style>\n",
       "<table border=\"1\" class=\"dataframe\">\n",
       "  <thead>\n",
       "    <tr style=\"text-align: right;\">\n",
       "      <th></th>\n",
       "      <th>values</th>\n",
       "    </tr>\n",
       "  </thead>\n",
       "  <tbody>\n",
       "    <tr>\n",
       "      <th>T</th>\n",
       "      <td>385 kelvin</td>\n",
       "    </tr>\n",
       "    <tr>\n",
       "      <th>x</th>\n",
       "      <td>0 meter</td>\n",
       "    </tr>\n",
       "    <tr>\n",
       "      <th>y</th>\n",
       "      <td>0 meter</td>\n",
       "    </tr>\n",
       "    <tr>\n",
       "      <th>vx</th>\n",
       "      <td>0 meter / second</td>\n",
       "    </tr>\n",
       "    <tr>\n",
       "      <th>vy</th>\n",
       "      <td>0 meter / second</td>\n",
       "    </tr>\n",
       "  </tbody>\n",
       "</table>\n",
       "</div>"
      ],
      "text/plain": [
       "T           385 kelvin\n",
       "x              0 meter\n",
       "y              0 meter\n",
       "vx    0 meter / second\n",
       "vy    0 meter / second\n",
       "dtype: object"
      ]
     },
     "execution_count": 3,
     "metadata": {},
     "output_type": "execute_result"
    }
   ],
   "source": [
    "T_0 =  385 * K # 288 inital (326.84 neutral buoyant)\n",
    "x_0 = 0 *m\n",
    "y_0 = 0 * m\n",
    "vx_0 = 0 * (m/s)\n",
    "vy_0 = 0 * (m/s)\n",
    "\n",
    "init = State(T=T_0,\n",
    "            x=x_0,\n",
    "            y=y_0,\n",
    "            vx = vx_0,\n",
    "            vy=vy_0)"
   ]
  },
  {
   "cell_type": "code",
   "execution_count": 4,
   "metadata": {},
   "outputs": [
    {
     "data": {
      "text/html": [
       "<div>\n",
       "<style scoped>\n",
       "    .dataframe tbody tr th:only-of-type {\n",
       "        vertical-align: middle;\n",
       "    }\n",
       "\n",
       "    .dataframe tbody tr th {\n",
       "        vertical-align: top;\n",
       "    }\n",
       "\n",
       "    .dataframe thead th {\n",
       "        text-align: right;\n",
       "    }\n",
       "</style>\n",
       "<table border=\"1\" class=\"dataframe\">\n",
       "  <thead>\n",
       "    <tr style=\"text-align: right;\">\n",
       "      <th></th>\n",
       "      <th>values</th>\n",
       "    </tr>\n",
       "  </thead>\n",
       "  <tbody>\n",
       "    <tr>\n",
       "      <th>init</th>\n",
       "      <td>T           385 kelvin\n",
       "x              0 meter\n",
       "...</td>\n",
       "    </tr>\n",
       "    <tr>\n",
       "      <th>g</th>\n",
       "      <td>-9.8 meter / second ** 2</td>\n",
       "    </tr>\n",
       "    <tr>\n",
       "      <th>mass</th>\n",
       "      <td>613 kilogram</td>\n",
       "    </tr>\n",
       "    <tr>\n",
       "      <th>diameter</th>\n",
       "      <td>15 meter</td>\n",
       "    </tr>\n",
       "    <tr>\n",
       "      <th>volume</th>\n",
       "      <td>2200 meter ** 3</td>\n",
       "    </tr>\n",
       "    <tr>\n",
       "      <th>p_air</th>\n",
       "      <td>1.2 kilogram / meter ** 3</td>\n",
       "    </tr>\n",
       "    <tr>\n",
       "      <th>coeff_d</th>\n",
       "      <td>0.47</td>\n",
       "    </tr>\n",
       "    <tr>\n",
       "      <th>area</th>\n",
       "      <td>706.8 meter ** 2</td>\n",
       "    </tr>\n",
       "    <tr>\n",
       "      <th>gas_constant</th>\n",
       "      <td>287.05 joule / kelvin / kilogram</td>\n",
       "    </tr>\n",
       "    <tr>\n",
       "      <th>air_pressure</th>\n",
       "      <td>101325 pascal</td>\n",
       "    </tr>\n",
       "    <tr>\n",
       "      <th>wind_speed</th>\n",
       "      <td>4.4</td>\n",
       "    </tr>\n",
       "    <tr>\n",
       "      <th>t_0</th>\n",
       "      <td>0 second</td>\n",
       "    </tr>\n",
       "    <tr>\n",
       "      <th>t_end</th>\n",
       "      <td>500 second</td>\n",
       "    </tr>\n",
       "  </tbody>\n",
       "</table>\n",
       "</div>"
      ],
      "text/plain": [
       "init            T           385 kelvin\n",
       "x              0 meter\n",
       "...\n",
       "g                                        -9.8 meter / second ** 2\n",
       "mass                                                 613 kilogram\n",
       "diameter                                                 15 meter\n",
       "volume                                            2200 meter ** 3\n",
       "p_air                                   1.2 kilogram / meter ** 3\n",
       "coeff_d                                                      0.47\n",
       "area                                             706.8 meter ** 2\n",
       "gas_constant                     287.05 joule / kelvin / kilogram\n",
       "air_pressure                                        101325 pascal\n",
       "wind_speed                                                    4.4\n",
       "t_0                                                      0 second\n",
       "t_end                                                  500 second\n",
       "dtype: object"
      ]
     },
     "execution_count": 4,
     "metadata": {},
     "output_type": "execute_result"
    }
   ],
   "source": [
    "system1 = System(init = init,\n",
    "                g = -9.8 * m/s**2,\n",
    "                mass = 613 * kg,   #210 F air (805 kg) + human (105 lb) + hot air balloon mass # 925.656 kg w air. MASS TOO HEAVY\n",
    "                diameter = 15 * m,     #diameter of the hopper hot air balloon\n",
    "                volume = 2200 * m**3,  #volume of hopper\n",
    "                p_air = 1.2 * kg/m**3, #density (rho) of dry air\n",
    "                coeff_d = 0.47,        #coefficient of drag\n",
    "                area = 706.8 * m**2,   #cross sectional area of ballon for drag and wind force \n",
    "                gas_constant = 287.05 * J/(kg * K), #gas constant for pressure equation\n",
    "                air_pressure = 101325 * Pa,       #constant air pressure \n",
    "                wind_speed = 4.4 , #wind speed for cross wind\n",
    "                t_0 = 0 *s,             #start time of simulation\n",
    "                t_end = 500 * s)        #end time of simulation"
   ]
  },
  {
   "cell_type": "code",
   "execution_count": 5,
   "metadata": {},
   "outputs": [],
   "source": [
    "#def cool_func(state, system):\n",
    "    \n",
    "    #T, x, y, vx, vy = state\n",
    "    #unpack(system)\n",
    "    #T = -.256 * K + T\n",
    "    #return T"
   ]
  },
  {
   "cell_type": "markdown",
   "metadata": {},
   "source": [
    "def heat_func(state, system):\n",
    "    \n",
    "    T, x, y, vx, vy = state\n",
    "    unpack(system)\n",
    "\n",
    "    T = 1 *K + T\n",
    "    return T"
   ]
  },
  {
   "cell_type": "code",
   "execution_count": 6,
   "metadata": {},
   "outputs": [],
   "source": [
    "#cool_func(init, system)"
   ]
  },
  {
   "cell_type": "code",
   "execution_count": 7,
   "metadata": {},
   "outputs": [],
   "source": [
    "#heat_func(init,system)"
   ]
  },
  {
   "cell_type": "code",
   "execution_count": 8,
   "metadata": {},
   "outputs": [],
   "source": [
    "def density_in(state, system):\n",
    "    unpack(system1)\n",
    "    T, x, y, vx, vy = state\n",
    "    density_in = air_pressure / (gas_constant * T)\n",
    "#     print(density_in.units)\n",
    "    \n",
    "    return density_in"
   ]
  },
  {
   "cell_type": "code",
   "execution_count": 9,
   "metadata": {},
   "outputs": [
    {
     "data": {
      "text/html": [
       "0.9168500894681003 kilogram pascal/joule"
      ],
      "text/latex": [
       "$0.9168500894681003 \\frac{kilogram \\cdot pascal}{joule}$"
      ],
      "text/plain": [
       "<Quantity(0.9168500894681003, 'kilogram * pascal / joule')>"
      ]
     },
     "execution_count": 9,
     "metadata": {},
     "output_type": "execute_result"
    }
   ],
   "source": [
    "density_in(init,system1)"
   ]
  },
  {
   "cell_type": "code",
   "execution_count": 10,
   "metadata": {},
   "outputs": [],
   "source": [
    "def buoyant_force(state, system):\n",
    "    \"\"\"Computes buoyant force.\n",
    "    \n",
    "    state: State object with distance r\n",
    "    system: System object with m1, m2, and G\n",
    "    \"\"\"\n",
    "    T, x, y, vx, vy = state\n",
    "    unpack(system1)\n",
    "    \n",
    "    d = Vector(0 * (m/s**2),-g)\n",
    "    \n",
    "    balloon_density = density_in(state,system)\n",
    "#     print(p_air.units, balloon_density.units)\n",
    "    f_b_mag = volume * (p_air - balloon_density) * d.mag\n",
    "   # print(f_b_mag)\n",
    "    direction = d.hat()\n",
    "    f_b = direction * f_b_mag\n",
    "    return f_b"
   ]
  },
  {
   "cell_type": "code",
   "execution_count": 11,
   "metadata": {},
   "outputs": [
    {
     "data": {
      "text/html": [
       "[   0.         6104.71207107] kilogram meter/second<sup>2</sup>"
      ],
      "text/latex": [
       "$[   0.         6104.71207107] \\frac{kilogram \\cdot meter}{second^{2}}$"
      ],
      "text/plain": [
       "<Quantity([   0.         6104.71207107], 'kilogram * meter / second ** 2')>"
      ]
     },
     "execution_count": 11,
     "metadata": {},
     "output_type": "execute_result"
    }
   ],
   "source": [
    "buoyant_force(init, system1)"
   ]
  },
  {
   "cell_type": "code",
   "execution_count": 12,
   "metadata": {},
   "outputs": [],
   "source": [
    "def drag_force(state, system):\n",
    "    \"\"\"Computes drag force in the opposite direction of `V`.\n",
    "    \n",
    "    V: velocity vector\n",
    "    system: System object with rho, C_d, area\n",
    "    \n",
    "    returns: Vector drag force\n",
    "    \"\"\"\n",
    "    T, x, y, vx, vy = state\n",
    "    unpack(system1)\n",
    "    V = Vector(vx, vy)\n",
    "    mag = p_air * V.mag**2 * coeff_d * area / 2\n",
    "    direction = -V.hat()\n",
    "    f_drag = direction * mag\n",
    "    return f_drag"
   ]
  },
  {
   "cell_type": "code",
   "execution_count": 13,
   "metadata": {},
   "outputs": [
    {
     "data": {
      "text/html": [
       "[0. 0.] kilogram meter/second<sup>2</sup>"
      ],
      "text/latex": [
       "$[0. 0.] \\frac{kilogram \\cdot meter}{second^{2}}$"
      ],
      "text/plain": [
       "<Quantity([0. 0.], 'kilogram * meter / second ** 2')>"
      ]
     },
     "execution_count": 13,
     "metadata": {},
     "output_type": "execute_result"
    }
   ],
   "source": [
    "drag_force(init,system1)"
   ]
  },
  {
   "cell_type": "code",
   "execution_count": 14,
   "metadata": {},
   "outputs": [],
   "source": [
    "def wind_force(state, system):\n",
    "    \"\"\"Computes force of cross wind based on wind speed\n",
    "    \n",
    "    \"\"\"\n",
    "    \n",
    "    T, x, y, vx, vy = state\n",
    "    unpack(system1)\n",
    "    direction = Vector(1,0)\n",
    "    wind_pressure = (wind_speed**2) * 0.613 * (N/(m**2))\n",
    "    mag = area * coeff_d * 0.613 * wind_pressure\n",
    "    wind_force = direction * mag\n",
    "    \n",
    "    return wind_force"
   ]
  },
  {
   "cell_type": "code",
   "execution_count": 15,
   "metadata": {},
   "outputs": [
    {
     "data": {
      "text/html": [
       "[2416.6886409    0.       ] newton"
      ],
      "text/latex": [
       "$[2416.6886409    0.       ] newton$"
      ],
      "text/plain": [
       "<Quantity([2416.6886409    0.       ], 'newton')>"
      ]
     },
     "execution_count": 15,
     "metadata": {},
     "output_type": "execute_result"
    }
   ],
   "source": [
    "wind_force(init,system1)"
   ]
  },
  {
   "cell_type": "code",
   "execution_count": null,
   "metadata": {},
   "outputs": [],
   "source": []
  },
  {
   "cell_type": "code",
   "execution_count": 16,
   "metadata": {},
   "outputs": [],
   "source": [
    "def slope_func_heat(state, t, system):\n",
    "    \"\"\"Computes derivatives of the state variables.\n",
    "    \n",
    "    state: State (x, y, x velocity, y velocity)\n",
    "    t: time\n",
    "    system: System object with g, rho, C_d, area, mass\n",
    "    \n",
    "    returns: sequence (vx, vy, ax, ay)\n",
    "    \"\"\"\n",
    "    T, x, y, vx, vy = state\n",
    "    unpack(system1)\n",
    "    \n",
    "    \n",
    "    dTdt = 1\n",
    "    V = Vector(vx, vy)  \n",
    "    a_buoyant = buoyant_force(state, system) / mass\n",
    "    a_wind = wind_force(state,system) / mass\n",
    "    a_drag = drag_force(state, system) / mass\n",
    "    a_grav = Vector(0, g)\n",
    "    \n",
    "    a = a_grav + a_drag + a_wind + a_buoyant\n",
    "    #print(a_buoyant)\n",
    "    #print(a_drag)\n",
    "    #print(a_grav)\n",
    "    #print(a_wind)\n",
    "    #print(a)\n",
    "    \n",
    "    return dTdt, vx, vy, a.x, a.y"
   ]
  },
  {
   "cell_type": "code",
   "execution_count": 17,
   "metadata": {},
   "outputs": [
    {
     "data": {
      "text/plain": [
       "(1,\n",
       " <Quantity(0, 'meter / second')>,\n",
       " <Quantity(0, 'meter / second')>,\n",
       " <Quantity(3.94239582528, 'meter / second ** 2')>,\n",
       " <Quantity(0.1587472611219507, 'meter / second ** 2')>)"
      ]
     },
     "execution_count": 17,
     "metadata": {},
     "output_type": "execute_result"
    }
   ],
   "source": [
    "slope_func_heat(init, 0,system1)"
   ]
  },
  {
   "cell_type": "code",
   "execution_count": 18,
   "metadata": {
    "scrolled": true
   },
   "outputs": [],
   "source": [
    "ts = linrange(system1.t_0/s, system1.t_end/s, 1)\n",
    "results_heat, details = run_ode_solver(system1, slope_func_heat, t_eval = ts)"
   ]
  },
  {
   "cell_type": "code",
   "execution_count": 19,
   "metadata": {},
   "outputs": [
    {
     "data": {
      "text/html": [
       "<div>\n",
       "<style scoped>\n",
       "    .dataframe tbody tr th:only-of-type {\n",
       "        vertical-align: middle;\n",
       "    }\n",
       "\n",
       "    .dataframe tbody tr th {\n",
       "        vertical-align: top;\n",
       "    }\n",
       "\n",
       "    .dataframe thead th {\n",
       "        text-align: right;\n",
       "    }\n",
       "</style>\n",
       "<table border=\"1\" class=\"dataframe\">\n",
       "  <thead>\n",
       "    <tr style=\"text-align: right;\">\n",
       "      <th></th>\n",
       "      <th>T</th>\n",
       "      <th>x</th>\n",
       "      <th>y</th>\n",
       "      <th>vx</th>\n",
       "      <th>vy</th>\n",
       "    </tr>\n",
       "  </thead>\n",
       "  <tbody>\n",
       "    <tr>\n",
       "      <th>495.0</th>\n",
       "      <td>880.0</td>\n",
       "      <td>1033.878822</td>\n",
       "      <td>2747.938250</td>\n",
       "      <td>1.599397</td>\n",
       "      <td>7.420535</td>\n",
       "    </tr>\n",
       "    <tr>\n",
       "      <th>496.0</th>\n",
       "      <td>881.0</td>\n",
       "      <td>1035.477471</td>\n",
       "      <td>2755.358568</td>\n",
       "      <td>1.596212</td>\n",
       "      <td>7.412246</td>\n",
       "    </tr>\n",
       "    <tr>\n",
       "      <th>497.0</th>\n",
       "      <td>882.0</td>\n",
       "      <td>1037.074543</td>\n",
       "      <td>2762.778048</td>\n",
       "      <td>1.597523</td>\n",
       "      <td>7.424816</td>\n",
       "    </tr>\n",
       "    <tr>\n",
       "      <th>498.0</th>\n",
       "      <td>883.0</td>\n",
       "      <td>1038.671675</td>\n",
       "      <td>2770.204276</td>\n",
       "      <td>1.595246</td>\n",
       "      <td>7.420687</td>\n",
       "    </tr>\n",
       "    <tr>\n",
       "      <th>499.0</th>\n",
       "      <td>884.0</td>\n",
       "      <td>1040.267619</td>\n",
       "      <td>2777.631435</td>\n",
       "      <td>1.595553</td>\n",
       "      <td>7.428564</td>\n",
       "    </tr>\n",
       "  </tbody>\n",
       "</table>\n",
       "</div>"
      ],
      "text/plain": [
       "           T            x            y        vx        vy\n",
       "495.0  880.0  1033.878822  2747.938250  1.599397  7.420535\n",
       "496.0  881.0  1035.477471  2755.358568  1.596212  7.412246\n",
       "497.0  882.0  1037.074543  2762.778048  1.597523  7.424816\n",
       "498.0  883.0  1038.671675  2770.204276  1.595246  7.420687\n",
       "499.0  884.0  1040.267619  2777.631435  1.595553  7.428564"
      ]
     },
     "execution_count": 19,
     "metadata": {},
     "output_type": "execute_result"
    }
   ],
   "source": [
    "results_heat.tail()"
   ]
  },
  {
   "cell_type": "code",
   "execution_count": 20,
   "metadata": {},
   "outputs": [
    {
     "data": {
      "text/plain": [
       "[<matplotlib.lines.Line2D at 0x12644a3c358>]"
      ]
     },
     "execution_count": 20,
     "metadata": {},
     "output_type": "execute_result"
    },
    {
     "data": {
      "image/png": "[encoded data removed]",
      "text/plain": [
       "<Figure size 432x288 with 1 Axes>"
      ]
     },
     "metadata": {
      "needs_background": "light"
     },
     "output_type": "display_data"
    }
   ],
   "source": [
    "plot(results_heat.x, results_heat.y)"
   ]
  },
  {
   "cell_type": "markdown",
   "metadata": {},
   "source": [
    "init2 = State(T=get_last_value(results_heat.T),\n",
    "            x=get_last_value(results_heat.x),\n",
    "            y=get_last_value(results_heat.y),\n",
    "            vx = get_last_value(results_heat.vx),\n",
    "            vy=get_last_value(results_heat.vy))"
   ]
  },
  {
   "cell_type": "code",
   "execution_count": 21,
   "metadata": {},
   "outputs": [
    {
     "data": {
      "text/html": [
       "499.0 second"
      ],
      "text/latex": [
       "$499.0 second$"
      ],
      "text/plain": [
       "<Quantity(499.0, 'second')>"
      ]
     },
     "execution_count": 21,
     "metadata": {},
     "output_type": "execute_result"
    }
   ],
   "source": [
    "t_0 = get_last_label(results_heat) * s\n",
    "T, x, y, vx, vy = get_last_value(results_heat)\n",
    "init2 = State(T=T*K, x=x*m, y=y*m, vx=vx*m/s, vy=vy*m/s)\n",
    "t_0"
   ]
  },
  {
   "cell_type": "code",
   "execution_count": 22,
   "metadata": {},
   "outputs": [
    {
     "data": {
      "text/html": [
       "<div>\n",
       "<style scoped>\n",
       "    .dataframe tbody tr th:only-of-type {\n",
       "        vertical-align: middle;\n",
       "    }\n",
       "\n",
       "    .dataframe tbody tr th {\n",
       "        vertical-align: top;\n",
       "    }\n",
       "\n",
       "    .dataframe thead th {\n",
       "        text-align: right;\n",
       "    }\n",
       "</style>\n",
       "<table border=\"1\" class=\"dataframe\">\n",
       "  <thead>\n",
       "    <tr style=\"text-align: right;\">\n",
       "      <th></th>\n",
       "      <th>values</th>\n",
       "    </tr>\n",
       "  </thead>\n",
       "  <tbody>\n",
       "    <tr>\n",
       "      <th>init</th>\n",
       "      <td>T             883.9999999999889 kelvin\n",
       "x      ...</td>\n",
       "    </tr>\n",
       "    <tr>\n",
       "      <th>g</th>\n",
       "      <td>-9.8 meter / second ** 2</td>\n",
       "    </tr>\n",
       "    <tr>\n",
       "      <th>mass</th>\n",
       "      <td>613 kilogram</td>\n",
       "    </tr>\n",
       "    <tr>\n",
       "      <th>diameter</th>\n",
       "      <td>15 meter</td>\n",
       "    </tr>\n",
       "    <tr>\n",
       "      <th>volume</th>\n",
       "      <td>2200 meter ** 3</td>\n",
       "    </tr>\n",
       "    <tr>\n",
       "      <th>p_air</th>\n",
       "      <td>1.2 kilogram / meter ** 3</td>\n",
       "    </tr>\n",
       "    <tr>\n",
       "      <th>coeff_d</th>\n",
       "      <td>0.47</td>\n",
       "    </tr>\n",
       "    <tr>\n",
       "      <th>area</th>\n",
       "      <td>706.8 meter ** 2</td>\n",
       "    </tr>\n",
       "    <tr>\n",
       "      <th>gas_constant</th>\n",
       "      <td>287.05 joule / kelvin / kilogram</td>\n",
       "    </tr>\n",
       "    <tr>\n",
       "      <th>air_pressure</th>\n",
       "      <td>101325 pascal</td>\n",
       "    </tr>\n",
       "    <tr>\n",
       "      <th>wind_speed</th>\n",
       "      <td>4.4</td>\n",
       "    </tr>\n",
       "    <tr>\n",
       "      <th>t_0</th>\n",
       "      <td>499.0 second</td>\n",
       "    </tr>\n",
       "    <tr>\n",
       "      <th>t_end</th>\n",
       "      <td>5000 second</td>\n",
       "    </tr>\n",
       "  </tbody>\n",
       "</table>\n",
       "</div>"
      ],
      "text/plain": [
       "init            T             883.9999999999889 kelvin\n",
       "x      ...\n",
       "g                                        -9.8 meter / second ** 2\n",
       "mass                                                 613 kilogram\n",
       "diameter                                                 15 meter\n",
       "volume                                            2200 meter ** 3\n",
       "p_air                                   1.2 kilogram / meter ** 3\n",
       "coeff_d                                                      0.47\n",
       "area                                             706.8 meter ** 2\n",
       "gas_constant                     287.05 joule / kelvin / kilogram\n",
       "air_pressure                                        101325 pascal\n",
       "wind_speed                                                    4.4\n",
       "t_0                                                  499.0 second\n",
       "t_end                                                 5000 second\n",
       "dtype: object"
      ]
     },
     "execution_count": 22,
     "metadata": {},
     "output_type": "execute_result"
    }
   ],
   "source": [
    "system2 = System(system1, t_0=t_0, init=init2, t_end= 5000 *s)"
   ]
  },
  {
   "cell_type": "code",
   "execution_count": 23,
   "metadata": {},
   "outputs": [],
   "source": [
    "def slope_func_cool(state, t, system):\n",
    "    \"\"\"Computes derivatives of the state variables when ballon is cooling.\n",
    "    \n",
    "    state: State (x, y, x velocity, y velocity)\n",
    "    t: time\n",
    "    system: System object with g, rho, C_d, area, mass\n",
    "    \n",
    "    returns: sequence (dTdt, vx, vy, ax, ay)\n",
    "    \"\"\"\n",
    "    T, x, y, vx, vy = state\n",
    "    unpack(system2)\n",
    "    \n",
    "    \n",
    "    dTdt = -0.256\n",
    "    V = Vector(vx, vy)  \n",
    "    a_buoyant = buoyant_force(state, system) / mass\n",
    "    a_wind = wind_force(state,system) / mass\n",
    "    a_drag = drag_force(state, system) / mass\n",
    "    a_grav = Vector(0, g)\n",
    "    \n",
    "    a = a_grav + a_drag + a_wind + a_buoyant\n",
    "    #print(a_buoyant)\n",
    "    #print(a_drag)\n",
    "    #print(a_grav)\n",
    "    #print(a_wind)\n",
    "    #print(a)\n",
    "    \n",
    "    return dTdt, vx, vy, a.x, a.y"
   ]
  },
  {
   "cell_type": "code",
   "execution_count": 24,
   "metadata": {},
   "outputs": [
    {
     "data": {
      "text/plain": [
       "(-0.256,\n",
       " <Quantity(0, 'meter / second')>,\n",
       " <Quantity(0, 'meter / second')>,\n",
       " <Quantity(3.94239582528, 'meter / second ** 2')>,\n",
       " <Quantity(0.1587472611219507, 'meter / second ** 2')>)"
      ]
     },
     "execution_count": 24,
     "metadata": {},
     "output_type": "execute_result"
    }
   ],
   "source": [
    "slope_func_cool(init, 0, system2)"
   ]
  },
  {
   "cell_type": "code",
   "execution_count": 25,
   "metadata": {},
   "outputs": [],
   "source": [
    "def event_func(state, t, system):\n",
    "    T, x, y, vx, vy = state\n",
    "    return y"
   ]
  },
  {
   "cell_type": "code",
   "execution_count": 26,
   "metadata": {},
   "outputs": [
    {
     "data": {
      "text/html": [
       "<div>\n",
       "<style scoped>\n",
       "    .dataframe tbody tr th:only-of-type {\n",
       "        vertical-align: middle;\n",
       "    }\n",
       "\n",
       "    .dataframe tbody tr th {\n",
       "        vertical-align: top;\n",
       "    }\n",
       "\n",
       "    .dataframe thead th {\n",
       "        text-align: right;\n",
       "    }\n",
       "</style>\n",
       "<table border=\"1\" class=\"dataframe\">\n",
       "  <thead>\n",
       "    <tr style=\"text-align: right;\">\n",
       "      <th></th>\n",
       "      <th>T</th>\n",
       "      <th>x</th>\n",
       "      <th>y</th>\n",
       "      <th>vx</th>\n",
       "      <th>vy</th>\n",
       "    </tr>\n",
       "  </thead>\n",
       "  <tbody>\n",
       "    <tr>\n",
       "      <th>499.0</th>\n",
       "      <td>884.000</td>\n",
       "      <td>1040.267619</td>\n",
       "      <td>2777.631435</td>\n",
       "      <td>1.595553</td>\n",
       "      <td>7.428564</td>\n",
       "    </tr>\n",
       "    <tr>\n",
       "      <th>500.0</th>\n",
       "      <td>883.744</td>\n",
       "      <td>1041.863220</td>\n",
       "      <td>2785.061459</td>\n",
       "      <td>1.595281</td>\n",
       "      <td>7.428652</td>\n",
       "    </tr>\n",
       "    <tr>\n",
       "      <th>501.0</th>\n",
       "      <td>883.488</td>\n",
       "      <td>1043.458824</td>\n",
       "      <td>2792.490973</td>\n",
       "      <td>1.595269</td>\n",
       "      <td>7.427158</td>\n",
       "    </tr>\n",
       "    <tr>\n",
       "      <th>502.0</th>\n",
       "      <td>883.232</td>\n",
       "      <td>1045.054320</td>\n",
       "      <td>2799.918400</td>\n",
       "      <td>1.596605</td>\n",
       "      <td>7.431785</td>\n",
       "    </tr>\n",
       "    <tr>\n",
       "      <th>503.0</th>\n",
       "      <td>882.976</td>\n",
       "      <td>1046.650664</td>\n",
       "      <td>2807.348150</td>\n",
       "      <td>1.594576</td>\n",
       "      <td>7.420697</td>\n",
       "    </tr>\n",
       "    <tr>\n",
       "      <th>504.0</th>\n",
       "      <td>882.720</td>\n",
       "      <td>1048.246171</td>\n",
       "      <td>2814.772352</td>\n",
       "      <td>1.597546</td>\n",
       "      <td>7.432866</td>\n",
       "    </tr>\n",
       "    <tr>\n",
       "      <th>505.0</th>\n",
       "      <td>882.464</td>\n",
       "      <td>1049.843223</td>\n",
       "      <td>2822.202091</td>\n",
       "      <td>1.593710</td>\n",
       "      <td>7.413371</td>\n",
       "    </tr>\n",
       "    <tr>\n",
       "      <th>506.0</th>\n",
       "      <td>882.208</td>\n",
       "      <td>1051.439034</td>\n",
       "      <td>2829.624411</td>\n",
       "      <td>1.596844</td>\n",
       "      <td>7.426294</td>\n",
       "    </tr>\n",
       "    <tr>\n",
       "      <th>507.0</th>\n",
       "      <td>881.952</td>\n",
       "      <td>1053.035880</td>\n",
       "      <td>2837.049886</td>\n",
       "      <td>1.595685</td>\n",
       "      <td>7.419249</td>\n",
       "    </tr>\n",
       "    <tr>\n",
       "      <th>508.0</th>\n",
       "      <td>881.696</td>\n",
       "      <td>1054.632320</td>\n",
       "      <td>2844.471818</td>\n",
       "      <td>1.597378</td>\n",
       "      <td>7.425467</td>\n",
       "    </tr>\n",
       "    <tr>\n",
       "      <th>509.0</th>\n",
       "      <td>881.440</td>\n",
       "      <td>1056.229481</td>\n",
       "      <td>2851.895452</td>\n",
       "      <td>1.596353</td>\n",
       "      <td>7.419047</td>\n",
       "    </tr>\n",
       "    <tr>\n",
       "      <th>510.0</th>\n",
       "      <td>881.184</td>\n",
       "      <td>1057.826070</td>\n",
       "      <td>2859.314765</td>\n",
       "      <td>1.599011</td>\n",
       "      <td>7.429741</td>\n",
       "    </tr>\n",
       "    <tr>\n",
       "      <th>511.0</th>\n",
       "      <td>880.928</td>\n",
       "      <td>1059.423951</td>\n",
       "      <td>2866.738427</td>\n",
       "      <td>1.596099</td>\n",
       "      <td>7.414553</td>\n",
       "    </tr>\n",
       "    <tr>\n",
       "      <th>512.0</th>\n",
       "      <td>880.672</td>\n",
       "      <td>1061.020987</td>\n",
       "      <td>2874.156504</td>\n",
       "      <td>1.598212</td>\n",
       "      <td>7.422710</td>\n",
       "    </tr>\n",
       "    <tr>\n",
       "      <th>513.0</th>\n",
       "      <td>880.416</td>\n",
       "      <td>1062.619267</td>\n",
       "      <td>2881.578699</td>\n",
       "      <td>1.595016</td>\n",
       "      <td>7.406208</td>\n",
       "    </tr>\n",
       "    <tr>\n",
       "      <th>514.0</th>\n",
       "      <td>880.160</td>\n",
       "      <td>1064.216435</td>\n",
       "      <td>2888.994071</td>\n",
       "      <td>1.598174</td>\n",
       "      <td>7.419207</td>\n",
       "    </tr>\n",
       "    <tr>\n",
       "      <th>515.0</th>\n",
       "      <td>879.904</td>\n",
       "      <td>1065.814681</td>\n",
       "      <td>2896.412778</td>\n",
       "      <td>1.596840</td>\n",
       "      <td>7.411356</td>\n",
       "    </tr>\n",
       "    <tr>\n",
       "      <th>516.0</th>\n",
       "      <td>879.648</td>\n",
       "      <td>1067.412503</td>\n",
       "      <td>2903.827862</td>\n",
       "      <td>1.598439</td>\n",
       "      <td>7.417111</td>\n",
       "    </tr>\n",
       "    <tr>\n",
       "      <th>517.0</th>\n",
       "      <td>879.392</td>\n",
       "      <td>1069.010946</td>\n",
       "      <td>2911.244158</td>\n",
       "      <td>1.597845</td>\n",
       "      <td>7.412692</td>\n",
       "    </tr>\n",
       "    <tr>\n",
       "      <th>518.0</th>\n",
       "      <td>879.136</td>\n",
       "      <td>1070.608831</td>\n",
       "      <td>2918.656201</td>\n",
       "      <td>1.600858</td>\n",
       "      <td>7.424998</td>\n",
       "    </tr>\n",
       "    <tr>\n",
       "      <th>519.0</th>\n",
       "      <td>878.880</td>\n",
       "      <td>1072.208178</td>\n",
       "      <td>2926.073359</td>\n",
       "      <td>1.597459</td>\n",
       "      <td>7.407568</td>\n",
       "    </tr>\n",
       "    <tr>\n",
       "      <th>520.0</th>\n",
       "      <td>878.624</td>\n",
       "      <td>1073.806577</td>\n",
       "      <td>2933.484451</td>\n",
       "      <td>1.599606</td>\n",
       "      <td>7.415852</td>\n",
       "    </tr>\n",
       "    <tr>\n",
       "      <th>521.0</th>\n",
       "      <td>878.368</td>\n",
       "      <td>1075.406012</td>\n",
       "      <td>2940.898676</td>\n",
       "      <td>1.597483</td>\n",
       "      <td>7.404343</td>\n",
       "    </tr>\n",
       "    <tr>\n",
       "      <th>522.0</th>\n",
       "      <td>878.112</td>\n",
       "      <td>1077.004730</td>\n",
       "      <td>2948.307910</td>\n",
       "      <td>1.599759</td>\n",
       "      <td>7.413223</td>\n",
       "    </tr>\n",
       "    <tr>\n",
       "      <th>523.0</th>\n",
       "      <td>877.856</td>\n",
       "      <td>1078.604370</td>\n",
       "      <td>2955.719744</td>\n",
       "      <td>1.598348</td>\n",
       "      <td>7.405013</td>\n",
       "    </tr>\n",
       "    <tr>\n",
       "      <th>524.0</th>\n",
       "      <td>877.600</td>\n",
       "      <td>1080.203296</td>\n",
       "      <td>2963.126596</td>\n",
       "      <td>1.601310</td>\n",
       "      <td>7.417059</td>\n",
       "    </tr>\n",
       "    <tr>\n",
       "      <th>525.0</th>\n",
       "      <td>877.344</td>\n",
       "      <td>1081.803592</td>\n",
       "      <td>2970.538122</td>\n",
       "      <td>1.598349</td>\n",
       "      <td>7.401673</td>\n",
       "    </tr>\n",
       "    <tr>\n",
       "      <th>526.0</th>\n",
       "      <td>877.088</td>\n",
       "      <td>1083.402954</td>\n",
       "      <td>2977.943646</td>\n",
       "      <td>1.600852</td>\n",
       "      <td>7.411585</td>\n",
       "    </tr>\n",
       "    <tr>\n",
       "      <th>527.0</th>\n",
       "      <td>876.832</td>\n",
       "      <td>1085.003545</td>\n",
       "      <td>2985.353186</td>\n",
       "      <td>1.598143</td>\n",
       "      <td>7.397367</td>\n",
       "    </tr>\n",
       "    <tr>\n",
       "      <th>528.0</th>\n",
       "      <td>876.576</td>\n",
       "      <td>1086.603239</td>\n",
       "      <td>2992.756895</td>\n",
       "      <td>1.600719</td>\n",
       "      <td>7.407614</td>\n",
       "    </tr>\n",
       "    <tr>\n",
       "      <th>...</th>\n",
       "      <td>...</td>\n",
       "      <td>...</td>\n",
       "      <td>...</td>\n",
       "      <td>...</td>\n",
       "      <td>...</td>\n",
       "    </tr>\n",
       "    <tr>\n",
       "      <th>3763.0</th>\n",
       "      <td>48.416</td>\n",
       "      <td>7232.378258</td>\n",
       "      <td>809.074861</td>\n",
       "      <td>0.462394</td>\n",
       "      <td>-26.255932</td>\n",
       "    </tr>\n",
       "    <tr>\n",
       "      <th>3764.0</th>\n",
       "      <td>48.160</td>\n",
       "      <td>7232.839701</td>\n",
       "      <td>782.793435</td>\n",
       "      <td>0.460975</td>\n",
       "      <td>-26.334591</td>\n",
       "    </tr>\n",
       "    <tr>\n",
       "      <th>3765.0</th>\n",
       "      <td>47.904</td>\n",
       "      <td>7233.299757</td>\n",
       "      <td>756.431231</td>\n",
       "      <td>0.459340</td>\n",
       "      <td>-26.401577</td>\n",
       "    </tr>\n",
       "    <tr>\n",
       "      <th>3766.0</th>\n",
       "      <td>47.648</td>\n",
       "      <td>7233.758419</td>\n",
       "      <td>729.987845</td>\n",
       "      <td>0.457540</td>\n",
       "      <td>-26.459565</td>\n",
       "    </tr>\n",
       "    <tr>\n",
       "      <th>3767.0</th>\n",
       "      <td>47.392</td>\n",
       "      <td>7234.215625</td>\n",
       "      <td>703.466242</td>\n",
       "      <td>0.456644</td>\n",
       "      <td>-26.570665</td>\n",
       "    </tr>\n",
       "    <tr>\n",
       "      <th>3768.0</th>\n",
       "      <td>47.136</td>\n",
       "      <td>7234.671444</td>\n",
       "      <td>676.861671</td>\n",
       "      <td>0.455423</td>\n",
       "      <td>-26.663813</td>\n",
       "    </tr>\n",
       "    <tr>\n",
       "      <th>3769.0</th>\n",
       "      <td>46.880</td>\n",
       "      <td>7235.125873</td>\n",
       "      <td>650.173442</td>\n",
       "      <td>0.453874</td>\n",
       "      <td>-26.738517</td>\n",
       "    </tr>\n",
       "    <tr>\n",
       "      <th>3770.0</th>\n",
       "      <td>46.624</td>\n",
       "      <td>7235.578915</td>\n",
       "      <td>623.400632</td>\n",
       "      <td>0.451903</td>\n",
       "      <td>-26.788957</td>\n",
       "    </tr>\n",
       "    <tr>\n",
       "      <th>3771.0</th>\n",
       "      <td>46.368</td>\n",
       "      <td>7236.030479</td>\n",
       "      <td>596.547901</td>\n",
       "      <td>0.451079</td>\n",
       "      <td>-26.908190</td>\n",
       "    </tr>\n",
       "    <tr>\n",
       "      <th>3772.0</th>\n",
       "      <td>46.112</td>\n",
       "      <td>7236.480640</td>\n",
       "      <td>569.609879</td>\n",
       "      <td>0.450020</td>\n",
       "      <td>-27.014529</td>\n",
       "    </tr>\n",
       "    <tr>\n",
       "      <th>3773.0</th>\n",
       "      <td>45.856</td>\n",
       "      <td>7236.929460</td>\n",
       "      <td>542.582149</td>\n",
       "      <td>0.447618</td>\n",
       "      <td>-27.040817</td>\n",
       "    </tr>\n",
       "    <tr>\n",
       "      <th>3774.0</th>\n",
       "      <td>45.600</td>\n",
       "      <td>7237.376780</td>\n",
       "      <td>515.473357</td>\n",
       "      <td>0.446620</td>\n",
       "      <td>-27.152586</td>\n",
       "    </tr>\n",
       "    <tr>\n",
       "      <th>3775.0</th>\n",
       "      <td>45.344</td>\n",
       "      <td>7237.822696</td>\n",
       "      <td>488.276976</td>\n",
       "      <td>0.445310</td>\n",
       "      <td>-27.246409</td>\n",
       "    </tr>\n",
       "    <tr>\n",
       "      <th>3776.0</th>\n",
       "      <td>45.088</td>\n",
       "      <td>7238.267238</td>\n",
       "      <td>460.990207</td>\n",
       "      <td>0.443083</td>\n",
       "      <td>-27.284674</td>\n",
       "    </tr>\n",
       "    <tr>\n",
       "      <th>3777.0</th>\n",
       "      <td>44.832</td>\n",
       "      <td>7238.710265</td>\n",
       "      <td>433.620951</td>\n",
       "      <td>0.442431</td>\n",
       "      <td>-27.420856</td>\n",
       "    </tr>\n",
       "    <tr>\n",
       "      <th>3778.0</th>\n",
       "      <td>44.576</td>\n",
       "      <td>7239.151920</td>\n",
       "      <td>406.159420</td>\n",
       "      <td>0.440737</td>\n",
       "      <td>-27.493470</td>\n",
       "    </tr>\n",
       "    <tr>\n",
       "      <th>3779.0</th>\n",
       "      <td>44.320</td>\n",
       "      <td>7239.592113</td>\n",
       "      <td>378.610420</td>\n",
       "      <td>0.439593</td>\n",
       "      <td>-27.601357</td>\n",
       "    </tr>\n",
       "    <tr>\n",
       "      <th>3780.0</th>\n",
       "      <td>44.064</td>\n",
       "      <td>7240.030890</td>\n",
       "      <td>350.970042</td>\n",
       "      <td>0.438090</td>\n",
       "      <td>-27.687663</td>\n",
       "    </tr>\n",
       "    <tr>\n",
       "      <th>3781.0</th>\n",
       "      <td>43.808</td>\n",
       "      <td>7240.468227</td>\n",
       "      <td>323.238997</td>\n",
       "      <td>0.436649</td>\n",
       "      <td>-27.778759</td>\n",
       "    </tr>\n",
       "    <tr>\n",
       "      <th>3782.0</th>\n",
       "      <td>43.552</td>\n",
       "      <td>7240.904117</td>\n",
       "      <td>295.416769</td>\n",
       "      <td>0.435335</td>\n",
       "      <td>-27.878895</td>\n",
       "    </tr>\n",
       "    <tr>\n",
       "      <th>3783.0</th>\n",
       "      <td>43.296</td>\n",
       "      <td>7241.338614</td>\n",
       "      <td>267.498957</td>\n",
       "      <td>0.433128</td>\n",
       "      <td>-27.922587</td>\n",
       "    </tr>\n",
       "    <tr>\n",
       "      <th>3784.0</th>\n",
       "      <td>43.040</td>\n",
       "      <td>7241.771591</td>\n",
       "      <td>239.492769</td>\n",
       "      <td>0.432290</td>\n",
       "      <td>-28.055408</td>\n",
       "    </tr>\n",
       "    <tr>\n",
       "      <th>3785.0</th>\n",
       "      <td>42.784</td>\n",
       "      <td>7242.203152</td>\n",
       "      <td>211.390544</td>\n",
       "      <td>0.430870</td>\n",
       "      <td>-28.151723</td>\n",
       "    </tr>\n",
       "    <tr>\n",
       "      <th>3786.0</th>\n",
       "      <td>42.528</td>\n",
       "      <td>7242.633270</td>\n",
       "      <td>183.193063</td>\n",
       "      <td>0.429323</td>\n",
       "      <td>-28.240662</td>\n",
       "    </tr>\n",
       "    <tr>\n",
       "      <th>3787.0</th>\n",
       "      <td>42.272</td>\n",
       "      <td>7243.061923</td>\n",
       "      <td>154.900667</td>\n",
       "      <td>0.427980</td>\n",
       "      <td>-28.344055</td>\n",
       "    </tr>\n",
       "    <tr>\n",
       "      <th>3788.0</th>\n",
       "      <td>42.016</td>\n",
       "      <td>7243.489148</td>\n",
       "      <td>126.509994</td>\n",
       "      <td>0.426132</td>\n",
       "      <td>-28.414890</td>\n",
       "    </tr>\n",
       "    <tr>\n",
       "      <th>3789.0</th>\n",
       "      <td>41.760</td>\n",
       "      <td>7243.914869</td>\n",
       "      <td>98.025006</td>\n",
       "      <td>0.425112</td>\n",
       "      <td>-28.542066</td>\n",
       "    </tr>\n",
       "    <tr>\n",
       "      <th>3790.0</th>\n",
       "      <td>41.504</td>\n",
       "      <td>7244.339156</td>\n",
       "      <td>69.440056</td>\n",
       "      <td>0.423599</td>\n",
       "      <td>-28.637295</td>\n",
       "    </tr>\n",
       "    <tr>\n",
       "      <th>3791.0</th>\n",
       "      <td>41.248</td>\n",
       "      <td>7244.761987</td>\n",
       "      <td>40.755477</td>\n",
       "      <td>0.421917</td>\n",
       "      <td>-28.722102</td>\n",
       "    </tr>\n",
       "    <tr>\n",
       "      <th>3792.0</th>\n",
       "      <td>40.992</td>\n",
       "      <td>7245.183324</td>\n",
       "      <td>11.972765</td>\n",
       "      <td>0.420733</td>\n",
       "      <td>-28.841920</td>\n",
       "    </tr>\n",
       "  </tbody>\n",
       "</table>\n",
       "<p>3294 rows × 5 columns</p>\n",
       "</div>"
      ],
      "text/plain": [
       "              T            x            y        vx         vy\n",
       "499.0   884.000  1040.267619  2777.631435  1.595553   7.428564\n",
       "500.0   883.744  1041.863220  2785.061459  1.595281   7.428652\n",
       "501.0   883.488  1043.458824  2792.490973  1.595269   7.427158\n",
       "502.0   883.232  1045.054320  2799.918400  1.596605   7.431785\n",
       "503.0   882.976  1046.650664  2807.348150  1.594576   7.420697\n",
       "504.0   882.720  1048.246171  2814.772352  1.597546   7.432866\n",
       "505.0   882.464  1049.843223  2822.202091  1.593710   7.413371\n",
       "506.0   882.208  1051.439034  2829.624411  1.596844   7.426294\n",
       "507.0   881.952  1053.035880  2837.049886  1.595685   7.419249\n",
       "508.0   881.696  1054.632320  2844.471818  1.597378   7.425467\n",
       "509.0   881.440  1056.229481  2851.895452  1.596353   7.419047\n",
       "510.0   881.184  1057.826070  2859.314765  1.599011   7.429741\n",
       "511.0   880.928  1059.423951  2866.738427  1.596099   7.414553\n",
       "512.0   880.672  1061.020987  2874.156504  1.598212   7.422710\n",
       "513.0   880.416  1062.619267  2881.578699  1.595016   7.406208\n",
       "514.0   880.160  1064.216435  2888.994071  1.598174   7.419207\n",
       "515.0   879.904  1065.814681  2896.412778  1.596840   7.411356\n",
       "516.0   879.648  1067.412503  2903.827862  1.598439   7.417111\n",
       "517.0   879.392  1069.010946  2911.244158  1.597845   7.412692\n",
       "518.0   879.136  1070.608831  2918.656201  1.600858   7.424998\n",
       "519.0   878.880  1072.208178  2926.073359  1.597459   7.407568\n",
       "520.0   878.624  1073.806577  2933.484451  1.599606   7.415852\n",
       "521.0   878.368  1075.406012  2940.898676  1.597483   7.404343\n",
       "522.0   878.112  1077.004730  2948.307910  1.599759   7.413223\n",
       "523.0   877.856  1078.604370  2955.719744  1.598348   7.405013\n",
       "524.0   877.600  1080.203296  2963.126596  1.601310   7.417059\n",
       "525.0   877.344  1081.803592  2970.538122  1.598349   7.401673\n",
       "526.0   877.088  1083.402954  2977.943646  1.600852   7.411585\n",
       "527.0   876.832  1085.003545  2985.353186  1.598143   7.397367\n",
       "528.0   876.576  1086.603239  2992.756895  1.600719   7.407614\n",
       "...         ...          ...          ...       ...        ...\n",
       "3763.0   48.416  7232.378258   809.074861  0.462394 -26.255932\n",
       "3764.0   48.160  7232.839701   782.793435  0.460975 -26.334591\n",
       "3765.0   47.904  7233.299757   756.431231  0.459340 -26.401577\n",
       "3766.0   47.648  7233.758419   729.987845  0.457540 -26.459565\n",
       "3767.0   47.392  7234.215625   703.466242  0.456644 -26.570665\n",
       "3768.0   47.136  7234.671444   676.861671  0.455423 -26.663813\n",
       "3769.0   46.880  7235.125873   650.173442  0.453874 -26.738517\n",
       "3770.0   46.624  7235.578915   623.400632  0.451903 -26.788957\n",
       "3771.0   46.368  7236.030479   596.547901  0.451079 -26.908190\n",
       "3772.0   46.112  7236.480640   569.609879  0.450020 -27.014529\n",
       "3773.0   45.856  7236.929460   542.582149  0.447618 -27.040817\n",
       "3774.0   45.600  7237.376780   515.473357  0.446620 -27.152586\n",
       "3775.0   45.344  7237.822696   488.276976  0.445310 -27.246409\n",
       "3776.0   45.088  7238.267238   460.990207  0.443083 -27.284674\n",
       "3777.0   44.832  7238.710265   433.620951  0.442431 -27.420856\n",
       "3778.0   44.576  7239.151920   406.159420  0.440737 -27.493470\n",
       "3779.0   44.320  7239.592113   378.610420  0.439593 -27.601357\n",
       "3780.0   44.064  7240.030890   350.970042  0.438090 -27.687663\n",
       "3781.0   43.808  7240.468227   323.238997  0.436649 -27.778759\n",
       "3782.0   43.552  7240.904117   295.416769  0.435335 -27.878895\n",
       "3783.0   43.296  7241.338614   267.498957  0.433128 -27.922587\n",
       "3784.0   43.040  7241.771591   239.492769  0.432290 -28.055408\n",
       "3785.0   42.784  7242.203152   211.390544  0.430870 -28.151723\n",
       "3786.0   42.528  7242.633270   183.193063  0.429323 -28.240662\n",
       "3787.0   42.272  7243.061923   154.900667  0.427980 -28.344055\n",
       "3788.0   42.016  7243.489148   126.509994  0.426132 -28.414890\n",
       "3789.0   41.760  7243.914869    98.025006  0.425112 -28.542066\n",
       "3790.0   41.504  7244.339156    69.440056  0.423599 -28.637295\n",
       "3791.0   41.248  7244.761987    40.755477  0.421917 -28.722102\n",
       "3792.0   40.992  7245.183324    11.972765  0.420733 -28.841920\n",
       "\n",
       "[3294 rows x 5 columns]"
      ]
     },
     "execution_count": 26,
     "metadata": {},
     "output_type": "execute_result"
    }
   ],
   "source": [
    "ts = linrange(system2.t_0/s, system2.t_end/s, 1)\n",
    "results_cool, details = run_ode_solver(system2, slope_func_cool, t_eval = ts, events=event_func)\n",
    "results_cool"
   ]
  },
  {
   "cell_type": "code",
   "execution_count": 27,
   "metadata": {},
   "outputs": [
    {
     "data": {
      "text/plain": [
       "[<matplotlib.lines.Line2D at 0x12644b44668>]"
      ]
     },
     "execution_count": 27,
     "metadata": {},
     "output_type": "execute_result"
    },
    {
     "data": {
      "image/png": "[encoded data removed]",
      "text/plain": [
       "<Figure size 432x288 with 1 Axes>"
      ]
     },
     "metadata": {
      "needs_background": "light"
     },
     "output_type": "display_data"
    }
   ],
   "source": [
    "plot(results_cool.y)"
   ]
  },
  {
   "cell_type": "code",
   "execution_count": 28,
   "metadata": {},
   "outputs": [
    {
     "data": {
      "text/plain": [
       "[<matplotlib.lines.Line2D at 0x12644b977b8>]"
      ]
     },
     "execution_count": 28,
     "metadata": {},
     "output_type": "execute_result"
    },
    {
     "data": {
      "image/png": "[encoded data removed]",
      "text/plain": [
       "<Figure size 432x288 with 1 Axes>"
      ]
     },
     "metadata": {
      "needs_background": "light"
     },
     "output_type": "display_data"
    }
   ],
   "source": [
    "results = results_cool.combine_first(results_heat)\n",
    "plot(results.x, results.y)"
   ]
  },
  {
   "cell_type": "code",
   "execution_count": null,
   "metadata": {},
   "outputs": [],
   "source": []
  },
  {
   "cell_type": "code",
   "execution_count": null,
   "metadata": {},
   "outputs": [],
   "source": []
  },
  {
   "cell_type": "code",
   "execution_count": null,
   "metadata": {},
   "outputs": [],
   "source": []
  },
  {
   "cell_type": "code",
   "execution_count": null,
   "metadata": {},
   "outputs": [],
   "source": []
  },
  {
   "cell_type": "code",
   "execution_count": 29,
   "metadata": {},
   "outputs": [
    {
     "data": {
      "text/html": [
       "-6007.400000000001 kilogram meter/second<sup>2</sup>"
      ],
      "text/latex": [
       "$-6007.400000000001 \\frac{kilogram \\cdot meter}{second^{2}}$"
      ],
      "text/plain": [
       "<Quantity(-6007.400000000001, 'kilogram * meter / second ** 2')>"
      ]
     },
     "execution_count": 29,
     "metadata": {},
     "output_type": "execute_result"
    }
   ],
   "source": [
    "mass * g"
   ]
  },
  {
   "cell_type": "code",
   "execution_count": 32,
   "metadata": {},
   "outputs": [],
   "source": [
    "def burner_func(t):\n",
    "    burner = int(((t+3)%6)/3)\n",
    "    \n",
    "    return burner"
   ]
  },
  {
   "cell_type": "code",
   "execution_count": 33,
   "metadata": {},
   "outputs": [],
   "source": [
    "def dT_func(burner_func,t):\n",
    "    \n",
    "    burner = burner_func(t)\n",
    "    T, x, y, vx, vy = state\n",
    "    \n",
    "    if burner == 1:\n",
    "        dT = 1\n",
    "        return dT \n",
    "    else:\n",
    "        dT = -0.256\n",
    "        return dT\n",
    "    "
   ]
  },
  {
   "cell_type": "code",
   "execution_count": 34,
   "metadata": {},
   "outputs": [
    {
     "data": {
      "text/plain": [
       "<generator object <genexpr> at 0x0000012644ACD5C8>"
      ]
     },
     "execution_count": 34,
     "metadata": {},
     "output_type": "execute_result"
    }
   ],
   "source": [
    "x = linspace(0, 500, 101)\n",
    "y1 = (burner_func(i) for i in x)"
   ]
  },
  {
   "cell_type": "code",
   "execution_count": 35,
   "metadata": {},
   "outputs": [
    {
     "data": {
      "text/plain": [
       "[<matplotlib.lines.Line2D at 0x12644c2a048>]"
      ]
     },
     "execution_count": 35,
     "metadata": {},
     "output_type": "execute_result"
    },
    {
     "data": {
      "image/png": "[encoded data removed]",
      "text/plain": [
       "<Figure size 432x288 with 1 Axes>"
      ]
     },
     "metadata": {
      "needs_background": "light"
     },
     "output_type": "display_data"
    }
   ],
   "source": [
    "plot(x,y1)\n"
   ]
  },
  {
   "cell_type": "code",
   "execution_count": null,
   "metadata": {},
   "outputs": [],
   "source": []
  },
  {
   "cell_type": "code",
   "execution_count": null,
   "metadata": {},
   "outputs": [],
   "source": []
  },
  {
   "cell_type": "code",
   "execution_count": null,
   "metadata": {},
   "outputs": [],
   "source": []
  },
  {
   "cell_type": "code",
   "execution_count": null,
   "metadata": {},
   "outputs": [],
   "source": []
  },
  {
   "cell_type": "code",
   "execution_count": null,
   "metadata": {},
   "outputs": [],
   "source": []
  },
  {
   "cell_type": "code",
   "execution_count": null,
   "metadata": {},
   "outputs": [],
   "source": []
  },
  {
   "cell_type": "code",
   "execution_count": null,
   "metadata": {},
   "outputs": [],
   "source": []
  }
 ],
 "metadata": {
  "kernelspec": {
   "display_name": "Python 3",
   "language": "python",
   "name": "python3"
  },
  "language_info": {
   "codemirror_mode": {
    "name": "ipython",
    "version": 3
   },
   "file_extension": ".py",
   "mimetype": "text/x-python",
   "name": "python",
   "nbconvert_exporter": "python",
   "pygments_lexer": "ipython3",
   "version": "3.6.6"
  }
 },
 "nbformat": 4,
 "nbformat_minor": 2
}
