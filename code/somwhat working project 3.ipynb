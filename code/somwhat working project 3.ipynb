{
 "cells": [
  {
   "cell_type": "code",
   "execution_count": 1,
   "metadata": {},
   "outputs": [],
   "source": [
    "# Configure Jupyter so figures appear in the notebook\n",
    "%matplotlib inline\n",
    "\n",
    "# Configure Jupyter to display the assigned value after an assignment\n",
    "%config InteractiveShell.ast_node_interactivity='last_expr_or_assign'\n",
    "\n",
    "# import functions from the modsim.py module\n",
    "from modsim import *\n",
    "from math import floor"
   ]
  },
  {
   "cell_type": "code",
   "execution_count": 2,
   "metadata": {},
   "outputs": [
    {
     "data": {
      "text/html": [
       "pascal"
      ],
      "text/latex": [
       "$pascal$"
      ],
      "text/plain": [
       "<Unit('pascal')>"
      ]
     },
     "execution_count": 2,
     "metadata": {},
     "output_type": "execute_result"
    }
   ],
   "source": [
    "# Create units for model\n",
    "m = UNITS.meter\n",
    "s = UNITS.seconds\n",
    "kg = UNITS.kilogram\n",
    "degree = UNITS.degree\n",
    "N = UNITS.newton\n",
    "K = UNITS.kelvin\n",
    "C = UNITS.celsius\n",
    "F = UNITS.fahrenheit\n",
    "W = UNITS.watt\n",
    "J = UNITS.joule\n",
    "Pa = UNITS.pascal"
   ]
  },
  {
   "cell_type": "code",
   "execution_count": 3,
   "metadata": {},
   "outputs": [
    {
     "data": {
      "text/html": [
       "<div>\n",
       "<style scoped>\n",
       "    .dataframe tbody tr th:only-of-type {\n",
       "        vertical-align: middle;\n",
       "    }\n",
       "\n",
       "    .dataframe tbody tr th {\n",
       "        vertical-align: top;\n",
       "    }\n",
       "\n",
       "    .dataframe thead th {\n",
       "        text-align: right;\n",
       "    }\n",
       "</style>\n",
       "<table border=\"1\" class=\"dataframe\">\n",
       "  <thead>\n",
       "    <tr style=\"text-align: right;\">\n",
       "      <th></th>\n",
       "      <th>values</th>\n",
       "    </tr>\n",
       "  </thead>\n",
       "  <tbody>\n",
       "    <tr>\n",
       "      <th>T</th>\n",
       "      <td>385 kelvin</td>\n",
       "    </tr>\n",
       "    <tr>\n",
       "      <th>x</th>\n",
       "      <td>0 meter</td>\n",
       "    </tr>\n",
       "    <tr>\n",
       "      <th>y</th>\n",
       "      <td>0 meter</td>\n",
       "    </tr>\n",
       "    <tr>\n",
       "      <th>vx</th>\n",
       "      <td>0 meter / second</td>\n",
       "    </tr>\n",
       "    <tr>\n",
       "      <th>vy</th>\n",
       "      <td>0 meter / second</td>\n",
       "    </tr>\n",
       "  </tbody>\n",
       "</table>\n",
       "</div>"
      ],
      "text/plain": [
       "T           385 kelvin\n",
       "x              0 meter\n",
       "y              0 meter\n",
       "vx    0 meter / second\n",
       "vy    0 meter / second\n",
       "dtype: object"
      ]
     },
     "execution_count": 3,
     "metadata": {},
     "output_type": "execute_result"
    }
   ],
   "source": [
    "T_0 =  385 * K # 288 inital (326.84 neutral buoyant)\n",
    "x_0 = 0 *m\n",
    "y_0 = 0 * m\n",
    "vx_0 = 0 * (m/s)\n",
    "vy_0 = 0 * (m/s)\n",
    "\n",
    "init = State(T=T_0,\n",
    "            x=x_0,\n",
    "            y=y_0,\n",
    "            vx = vx_0,\n",
    "            vy=vy_0)"
   ]
  },
  {
   "cell_type": "code",
   "execution_count": 4,
   "metadata": {},
   "outputs": [
    {
     "data": {
      "text/html": [
       "<div>\n",
       "<style scoped>\n",
       "    .dataframe tbody tr th:only-of-type {\n",
       "        vertical-align: middle;\n",
       "    }\n",
       "\n",
       "    .dataframe tbody tr th {\n",
       "        vertical-align: top;\n",
       "    }\n",
       "\n",
       "    .dataframe thead th {\n",
       "        text-align: right;\n",
       "    }\n",
       "</style>\n",
       "<table border=\"1\" class=\"dataframe\">\n",
       "  <thead>\n",
       "    <tr style=\"text-align: right;\">\n",
       "      <th></th>\n",
       "      <th>values</th>\n",
       "    </tr>\n",
       "  </thead>\n",
       "  <tbody>\n",
       "    <tr>\n",
       "      <th>init</th>\n",
       "      <td>T           385 kelvin\n",
       "x              0 meter\n",
       "...</td>\n",
       "    </tr>\n",
       "    <tr>\n",
       "      <th>g</th>\n",
       "      <td>-9.8 meter / second ** 2</td>\n",
       "    </tr>\n",
       "    <tr>\n",
       "      <th>mass</th>\n",
       "      <td>613 kilogram</td>\n",
       "    </tr>\n",
       "    <tr>\n",
       "      <th>diameter</th>\n",
       "      <td>15 meter</td>\n",
       "    </tr>\n",
       "    <tr>\n",
       "      <th>volume</th>\n",
       "      <td>2200 meter ** 3</td>\n",
       "    </tr>\n",
       "    <tr>\n",
       "      <th>p_air</th>\n",
       "      <td>1.2 kilogram / meter ** 3</td>\n",
       "    </tr>\n",
       "    <tr>\n",
       "      <th>coeff_d</th>\n",
       "      <td>0.47</td>\n",
       "    </tr>\n",
       "    <tr>\n",
       "      <th>area</th>\n",
       "      <td>706.8 meter ** 2</td>\n",
       "    </tr>\n",
       "    <tr>\n",
       "      <th>gas_constant</th>\n",
       "      <td>287.05 joule / kelvin / kilogram</td>\n",
       "    </tr>\n",
       "    <tr>\n",
       "      <th>air_pressure</th>\n",
       "      <td>101325 pascal</td>\n",
       "    </tr>\n",
       "    <tr>\n",
       "      <th>wind_speed</th>\n",
       "      <td>25</td>\n",
       "    </tr>\n",
       "    <tr>\n",
       "      <th>t_0</th>\n",
       "      <td>0 second</td>\n",
       "    </tr>\n",
       "    <tr>\n",
       "      <th>t_end</th>\n",
       "      <td>120 second</td>\n",
       "    </tr>\n",
       "  </tbody>\n",
       "</table>\n",
       "</div>"
      ],
      "text/plain": [
       "init            T           385 kelvin\n",
       "x              0 meter\n",
       "...\n",
       "g                                        -9.8 meter / second ** 2\n",
       "mass                                                 613 kilogram\n",
       "diameter                                                 15 meter\n",
       "volume                                            2200 meter ** 3\n",
       "p_air                                   1.2 kilogram / meter ** 3\n",
       "coeff_d                                                      0.47\n",
       "area                                             706.8 meter ** 2\n",
       "gas_constant                     287.05 joule / kelvin / kilogram\n",
       "air_pressure                                        101325 pascal\n",
       "wind_speed                                                     25\n",
       "t_0                                                      0 second\n",
       "t_end                                                  120 second\n",
       "dtype: object"
      ]
     },
     "execution_count": 4,
     "metadata": {},
     "output_type": "execute_result"
    }
   ],
   "source": [
    "system1 = System(init = init,\n",
    "                g = -9.8 * m/s**2,\n",
    "                mass = 613 * kg,   #210 F air (805 kg) + human (105 lb) + hot air balloon mass # 925.656 kg w air. MASS TOO HEAVY\n",
    "                diameter = 15 * m,     #diameter of the hopper hot air balloon\n",
    "                volume = 2200 * m**3,  #volume of hopper\n",
    "                p_air = 1.2 * kg/m**3, #density (rho) of dry air\n",
    "                coeff_d = 0.47,        #coefficient of drag\n",
    "                area = 706.8 * m**2,   #cross sectional area of ballon for drag and wind force \n",
    "                gas_constant = 287.05 * J/(kg * K), #gas constant for pressure equation\n",
    "                air_pressure = 101325 * Pa,       #constant air pressure \n",
    "                wind_speed = 25 , #wind speed for cross wind 4.4 = 10mph\n",
    "                t_0 = 0 *s,             #start time of simulation\n",
    "                t_end = 120 * s)        #end time of simulation"
   ]
  },
  {
   "cell_type": "code",
   "execution_count": 5,
   "metadata": {},
   "outputs": [],
   "source": [
    "def density_in(state, system):\n",
    "    unpack(system1)\n",
    "    T, x, y, vx, vy = state\n",
    "    density_in = air_pressure / (gas_constant * T)\n",
    "    \n",
    "    return density_in"
   ]
  },
  {
   "cell_type": "code",
   "execution_count": 6,
   "metadata": {},
   "outputs": [
    {
     "data": {
      "text/html": [
       "0.9168500894681003 kilogram pascal/joule"
      ],
      "text/latex": [
       "$0.9168500894681003 \\frac{kilogram \\cdot pascal}{joule}$"
      ],
      "text/plain": [
       "<Quantity(0.9168500894681003, 'kilogram * pascal / joule')>"
      ]
     },
     "execution_count": 6,
     "metadata": {},
     "output_type": "execute_result"
    }
   ],
   "source": [
    "density_in(init,system1)"
   ]
  },
  {
   "cell_type": "code",
   "execution_count": 7,
   "metadata": {},
   "outputs": [],
   "source": [
    "def buoyant_force(state, system):\n",
    "    \"\"\"Computes buoyant force.\n",
    "    \n",
    "    state: State object with distance r\n",
    "    system: System object with m1, m2, and G\n",
    "    \"\"\"\n",
    "    T, x, y, vx, vy = state\n",
    "    unpack(system1)\n",
    "    \n",
    "    d = Vector(0 * (m/s**2),-g)\n",
    "    \n",
    "    balloon_density = density_in(state,system)\n",
    "    f_b_mag = volume * (p_air - balloon_density) * d.mag\n",
    "    direction = d.hat()\n",
    "    f_b = direction * f_b_mag\n",
    "    return f_b"
   ]
  },
  {
   "cell_type": "code",
   "execution_count": 8,
   "metadata": {},
   "outputs": [
    {
     "data": {
      "text/html": [
       "[   0.         6104.71207107] kilogram meter/second<sup>2</sup>"
      ],
      "text/latex": [
       "$[   0.         6104.71207107] \\frac{kilogram \\cdot meter}{second^{2}}$"
      ],
      "text/plain": [
       "<Quantity([   0.         6104.71207107], 'kilogram * meter / second ** 2')>"
      ]
     },
     "execution_count": 8,
     "metadata": {},
     "output_type": "execute_result"
    }
   ],
   "source": [
    "buoyant_force(init, system1)"
   ]
  },
  {
   "cell_type": "code",
   "execution_count": 9,
   "metadata": {},
   "outputs": [],
   "source": [
    "def drag_force(state, system):\n",
    "    \"\"\"Computes drag force in the opposite direction of `V`.\n",
    "    \n",
    "    V: velocity vector\n",
    "    system: System object with rho, C_d, area\n",
    "    \n",
    "    returns: Vector drag force\n",
    "    \"\"\"\n",
    "    T, x, y, vx, vy = state\n",
    "    unpack(system1)\n",
    "    V = Vector(vx, vy)\n",
    "    mag = p_air * V.mag**2 * coeff_d * area / 2\n",
    "    direction = -V.hat()\n",
    "    f_drag = direction * mag\n",
    "    return f_drag"
   ]
  },
  {
   "cell_type": "code",
   "execution_count": 10,
   "metadata": {},
   "outputs": [
    {
     "data": {
      "text/html": [
       "[0. 0.] kilogram meter/second<sup>2</sup>"
      ],
      "text/latex": [
       "$[0. 0.] \\frac{kilogram \\cdot meter}{second^{2}}$"
      ],
      "text/plain": [
       "<Quantity([0. 0.], 'kilogram * meter / second ** 2')>"
      ]
     },
     "execution_count": 10,
     "metadata": {},
     "output_type": "execute_result"
    }
   ],
   "source": [
    "drag_force(init,system1)"
   ]
  },
  {
   "cell_type": "code",
   "execution_count": 11,
   "metadata": {},
   "outputs": [],
   "source": [
    "def wind_force(state, system):\n",
    "    \"\"\"Computes force of cross wind based on wind speed\n",
    "    \n",
    "    \"\"\"\n",
    "    \n",
    "    T, x, y, vx, vy = state\n",
    "    unpack(system1)\n",
    "    direction = Vector(1,0)\n",
    "    wind_pressure = (wind_speed**2) * 0.613 * (N/(m**2))\n",
    "    mag = area * coeff_d * 0.613 * wind_pressure\n",
    "    wind_force = direction * mag\n",
    "    \n",
    "    return wind_force"
   ]
  },
  {
   "cell_type": "code",
   "execution_count": 12,
   "metadata": {},
   "outputs": [
    {
     "data": {
      "text/html": [
       "[78018.0992025     0.       ] newton"
      ],
      "text/latex": [
       "$[78018.0992025     0.       ] newton$"
      ],
      "text/plain": [
       "<Quantity([78018.0992025     0.       ], 'newton')>"
      ]
     },
     "execution_count": 12,
     "metadata": {},
     "output_type": "execute_result"
    }
   ],
   "source": [
    "wind_force(init,system1)"
   ]
  },
  {
   "cell_type": "code",
   "execution_count": 13,
   "metadata": {},
   "outputs": [],
   "source": [
    "def slope_func_heat(state, t, system):\n",
    "    \"\"\"Computes derivatives of the state variables.\n",
    "    \n",
    "    state: State (x, y, x velocity, y velocity)\n",
    "    t: time\n",
    "    system: System object with g, rho, C_d, area, mass\n",
    "    \n",
    "    returns: sequence (vx, vy, ax, ay)\n",
    "    \"\"\"\n",
    "    T, x, y, vx, vy = state\n",
    "    unpack(system1)\n",
    "    \n",
    "    \n",
    "    dTdt = 1\n",
    "    V = Vector(vx, vy)  \n",
    "    a_buoyant = buoyant_force(state, system) / mass\n",
    "    a_wind = wind_force(state,system) / mass\n",
    "    a_drag = drag_force(state, system) / mass\n",
    "    a_grav = Vector(0, g)\n",
    "    \n",
    "    a = a_grav + a_drag + a_wind + a_buoyant\n",
    "   \n",
    "        \n",
    "    return dTdt, vx, vy, a.x, a.y"
   ]
  },
  {
   "cell_type": "code",
   "execution_count": 14,
   "metadata": {},
   "outputs": [
    {
     "data": {
      "text/plain": [
       "(1,\n",
       " <Quantity(0, 'meter / second')>,\n",
       " <Quantity(0, 'meter / second')>,\n",
       " <Quantity(127.2725925, 'meter / second ** 2')>,\n",
       " <Quantity(0.1587472611219507, 'meter / second ** 2')>)"
      ]
     },
     "execution_count": 14,
     "metadata": {},
     "output_type": "execute_result"
    }
   ],
   "source": [
    "slope_func_heat(init, 0, system1)"
   ]
  },
  {
   "cell_type": "code",
   "execution_count": 15,
   "metadata": {},
   "outputs": [],
   "source": [
    "ts = linrange(system1.t_0/s, system1.t_end/s, 1)\n",
    "results_heat, details = run_ode_solver(system1, slope_func_heat, t_eval = ts)"
   ]
  },
  {
   "cell_type": "code",
   "execution_count": 17,
   "metadata": {},
   "outputs": [
    {
     "data": {
      "text/html": [
       "<div>\n",
       "<style scoped>\n",
       "    .dataframe tbody tr th:only-of-type {\n",
       "        vertical-align: middle;\n",
       "    }\n",
       "\n",
       "    .dataframe tbody tr th {\n",
       "        vertical-align: top;\n",
       "    }\n",
       "\n",
       "    .dataframe thead th {\n",
       "        text-align: right;\n",
       "    }\n",
       "</style>\n",
       "<table border=\"1\" class=\"dataframe\">\n",
       "  <thead>\n",
       "    <tr style=\"text-align: right;\">\n",
       "      <th></th>\n",
       "      <th>T</th>\n",
       "      <th>x</th>\n",
       "      <th>y</th>\n",
       "      <th>vx</th>\n",
       "      <th>vy</th>\n",
       "    </tr>\n",
       "  </thead>\n",
       "  <tbody>\n",
       "    <tr>\n",
       "      <th>115.0</th>\n",
       "      <td>500.0</td>\n",
       "      <td>2272.320565</td>\n",
       "      <td>74.677279</td>\n",
       "      <td>19.792452</td>\n",
       "      <td>1.176887</td>\n",
       "    </tr>\n",
       "    <tr>\n",
       "      <th>116.0</th>\n",
       "      <td>501.0</td>\n",
       "      <td>2292.088876</td>\n",
       "      <td>75.856582</td>\n",
       "      <td>19.774943</td>\n",
       "      <td>1.183550</td>\n",
       "    </tr>\n",
       "    <tr>\n",
       "      <th>117.0</th>\n",
       "      <td>502.0</td>\n",
       "      <td>2311.856108</td>\n",
       "      <td>77.043508</td>\n",
       "      <td>19.768853</td>\n",
       "      <td>1.190858</td>\n",
       "    </tr>\n",
       "    <tr>\n",
       "      <th>118.0</th>\n",
       "      <td>503.0</td>\n",
       "      <td>2331.623145</td>\n",
       "      <td>78.238078</td>\n",
       "      <td>19.762253</td>\n",
       "      <td>1.198099</td>\n",
       "    </tr>\n",
       "    <tr>\n",
       "      <th>119.0</th>\n",
       "      <td>504.0</td>\n",
       "      <td>2351.389860</td>\n",
       "      <td>79.440255</td>\n",
       "      <td>19.756819</td>\n",
       "      <td>1.205376</td>\n",
       "    </tr>\n",
       "  </tbody>\n",
       "</table>\n",
       "</div>"
      ],
      "text/plain": [
       "           T            x          y         vx        vy\n",
       "115.0  500.0  2272.320565  74.677279  19.792452  1.176887\n",
       "116.0  501.0  2292.088876  75.856582  19.774943  1.183550\n",
       "117.0  502.0  2311.856108  77.043508  19.768853  1.190858\n",
       "118.0  503.0  2331.623145  78.238078  19.762253  1.198099\n",
       "119.0  504.0  2351.389860  79.440255  19.756819  1.205376"
      ]
     },
     "execution_count": 17,
     "metadata": {},
     "output_type": "execute_result"
    }
   ],
   "source": [
    "results_heat.tail()"
   ]
  },
  {
   "cell_type": "code",
   "execution_count": 18,
   "metadata": {},
   "outputs": [
    {
     "data": {
      "text/plain": [
       "[<matplotlib.lines.Line2D at 0x22141f8b6d8>]"
      ]
     },
     "execution_count": 18,
     "metadata": {},
     "output_type": "execute_result"
    },
    {
     "data": {
      "image/png": "[encoded data removed]",
      "text/plain": [
       "<Figure size 432x288 with 1 Axes>"
      ]
     },
     "metadata": {
      "needs_background": "light"
     },
     "output_type": "display_data"
    }
   ],
   "source": [
    "plot(results_heat.x, results_heat.y)"
   ]
  },
  {
   "cell_type": "code",
   "execution_count": 32,
   "metadata": {},
   "outputs": [
    {
     "data": {
      "text/html": [
       "<div>\n",
       "<style scoped>\n",
       "    .dataframe tbody tr th:only-of-type {\n",
       "        vertical-align: middle;\n",
       "    }\n",
       "\n",
       "    .dataframe tbody tr th {\n",
       "        vertical-align: top;\n",
       "    }\n",
       "\n",
       "    .dataframe thead th {\n",
       "        text-align: right;\n",
       "    }\n",
       "</style>\n",
       "<table border=\"1\" class=\"dataframe\">\n",
       "  <thead>\n",
       "    <tr style=\"text-align: right;\">\n",
       "      <th></th>\n",
       "      <th>values</th>\n",
       "    </tr>\n",
       "  </thead>\n",
       "  <tbody>\n",
       "    <tr>\n",
       "      <th>T</th>\n",
       "      <td>503.99999999999727 kelvin</td>\n",
       "    </tr>\n",
       "    <tr>\n",
       "      <th>x</th>\n",
       "      <td>2351.389860202032 meter</td>\n",
       "    </tr>\n",
       "    <tr>\n",
       "      <th>y</th>\n",
       "      <td>79.44025529795056 meter</td>\n",
       "    </tr>\n",
       "    <tr>\n",
       "      <th>vx</th>\n",
       "      <td>19.7568188031536 meter / second</td>\n",
       "    </tr>\n",
       "    <tr>\n",
       "      <th>vy</th>\n",
       "      <td>1.2053759083223126 meter / second</td>\n",
       "    </tr>\n",
       "  </tbody>\n",
       "</table>\n",
       "</div>"
      ],
      "text/plain": [
       "T             503.99999999999727 kelvin\n",
       "x               2351.389860202032 meter\n",
       "y               79.44025529795056 meter\n",
       "vx      19.7568188031536 meter / second\n",
       "vy    1.2053759083223126 meter / second\n",
       "dtype: object"
      ]
     },
     "execution_count": 32,
     "metadata": {},
     "output_type": "execute_result"
    }
   ],
   "source": [
    "t_0 = get_last_label(results_heat) * s\n",
    "T, x, y, vx, vy = get_last_value(results_heat)\n",
    "init2 = State(T=T*K, x=x*m, y=y*m, vx=vx*m/s, vy=vy*m/s)"
   ]
  },
  {
   "cell_type": "code",
   "execution_count": 20,
   "metadata": {},
   "outputs": [
    {
     "data": {
      "text/html": [
       "<div>\n",
       "<style scoped>\n",
       "    .dataframe tbody tr th:only-of-type {\n",
       "        vertical-align: middle;\n",
       "    }\n",
       "\n",
       "    .dataframe tbody tr th {\n",
       "        vertical-align: top;\n",
       "    }\n",
       "\n",
       "    .dataframe thead th {\n",
       "        text-align: right;\n",
       "    }\n",
       "</style>\n",
       "<table border=\"1\" class=\"dataframe\">\n",
       "  <thead>\n",
       "    <tr style=\"text-align: right;\">\n",
       "      <th></th>\n",
       "      <th>values</th>\n",
       "    </tr>\n",
       "  </thead>\n",
       "  <tbody>\n",
       "    <tr>\n",
       "      <th>init</th>\n",
       "      <td>T             503.99999999999727 kelvin\n",
       "x     ...</td>\n",
       "    </tr>\n",
       "    <tr>\n",
       "      <th>g</th>\n",
       "      <td>-9.8 meter / second ** 2</td>\n",
       "    </tr>\n",
       "    <tr>\n",
       "      <th>mass</th>\n",
       "      <td>613 kilogram</td>\n",
       "    </tr>\n",
       "    <tr>\n",
       "      <th>diameter</th>\n",
       "      <td>15 meter</td>\n",
       "    </tr>\n",
       "    <tr>\n",
       "      <th>volume</th>\n",
       "      <td>2200 meter ** 3</td>\n",
       "    </tr>\n",
       "    <tr>\n",
       "      <th>p_air</th>\n",
       "      <td>1.2 kilogram / meter ** 3</td>\n",
       "    </tr>\n",
       "    <tr>\n",
       "      <th>coeff_d</th>\n",
       "      <td>0.47</td>\n",
       "    </tr>\n",
       "    <tr>\n",
       "      <th>area</th>\n",
       "      <td>706.8 meter ** 2</td>\n",
       "    </tr>\n",
       "    <tr>\n",
       "      <th>gas_constant</th>\n",
       "      <td>287.05 joule / kelvin / kilogram</td>\n",
       "    </tr>\n",
       "    <tr>\n",
       "      <th>air_pressure</th>\n",
       "      <td>101325 pascal</td>\n",
       "    </tr>\n",
       "    <tr>\n",
       "      <th>wind_speed</th>\n",
       "      <td>25</td>\n",
       "    </tr>\n",
       "    <tr>\n",
       "      <th>t_0</th>\n",
       "      <td>119.0 second</td>\n",
       "    </tr>\n",
       "    <tr>\n",
       "      <th>t_end</th>\n",
       "      <td>5000 second</td>\n",
       "    </tr>\n",
       "  </tbody>\n",
       "</table>\n",
       "</div>"
      ],
      "text/plain": [
       "init            T             503.99999999999727 kelvin\n",
       "x     ...\n",
       "g                                        -9.8 meter / second ** 2\n",
       "mass                                                 613 kilogram\n",
       "diameter                                                 15 meter\n",
       "volume                                            2200 meter ** 3\n",
       "p_air                                   1.2 kilogram / meter ** 3\n",
       "coeff_d                                                      0.47\n",
       "area                                             706.8 meter ** 2\n",
       "gas_constant                     287.05 joule / kelvin / kilogram\n",
       "air_pressure                                        101325 pascal\n",
       "wind_speed                                                     25\n",
       "t_0                                                  119.0 second\n",
       "t_end                                                 5000 second\n",
       "dtype: object"
      ]
     },
     "execution_count": 20,
     "metadata": {},
     "output_type": "execute_result"
    }
   ],
   "source": [
    "system2 = System(system1, t_0=t_0, init=init2, t_end= 5000 *s)"
   ]
  },
  {
   "cell_type": "code",
   "execution_count": 21,
   "metadata": {},
   "outputs": [],
   "source": [
    "def slope_func_cool(state, t, system):\n",
    "    \"\"\"Computes derivatives of the state variables when ballon is cooling.\n",
    "    \n",
    "    state: State (x, y, x velocity, y velocity)\n",
    "    t: time\n",
    "    system: System object with g, rho, C_d, area, mass\n",
    "    \n",
    "    returns: sequence (dTdt, vx, vy, ax, ay)\n",
    "    \"\"\"\n",
    "    T, x, y, vx, vy = state\n",
    "    unpack(system2)\n",
    "    \n",
    "    \n",
    "    dTdt = -0.256\n",
    "    V = Vector(vx, vy)  \n",
    "    a_buoyant = buoyant_force(state, system) / mass\n",
    "    a_wind = wind_force(state,system) / mass\n",
    "    a_drag = drag_force(state, system) / mass\n",
    "    a_grav = Vector(0, g)\n",
    "    \n",
    "    a = a_grav + a_drag + a_wind + a_buoyant\n",
    "    #print(a_buoyant)\n",
    "    #print(a_drag)\n",
    "    #print(a_grav)\n",
    "    #print(a_wind)\n",
    "    #print(a)\n",
    "    \n",
    "    return dTdt, vx, vy, a.x, a.y"
   ]
  },
  {
   "cell_type": "code",
   "execution_count": 22,
   "metadata": {},
   "outputs": [
    {
     "data": {
      "text/plain": [
       "(-0.256,\n",
       " <Quantity(0, 'meter / second')>,\n",
       " <Quantity(0, 'meter / second')>,\n",
       " <Quantity(127.2725925, 'meter / second ** 2')>,\n",
       " <Quantity(0.1587472611219507, 'meter / second ** 2')>)"
      ]
     },
     "execution_count": 22,
     "metadata": {},
     "output_type": "execute_result"
    }
   ],
   "source": [
    "slope_func_cool(init, 0, system2)"
   ]
  },
  {
   "cell_type": "code",
   "execution_count": 23,
   "metadata": {},
   "outputs": [],
   "source": [
    "def event_func(state, t, system):\n",
    "    T, x, y, vx, vy = state\n",
    "    return y"
   ]
  },
  {
   "cell_type": "code",
   "execution_count": 24,
   "metadata": {},
   "outputs": [
    {
     "data": {
      "text/html": [
       "<div>\n",
       "<style scoped>\n",
       "    .dataframe tbody tr th:only-of-type {\n",
       "        vertical-align: middle;\n",
       "    }\n",
       "\n",
       "    .dataframe tbody tr th {\n",
       "        vertical-align: top;\n",
       "    }\n",
       "\n",
       "    .dataframe thead th {\n",
       "        text-align: right;\n",
       "    }\n",
       "</style>\n",
       "<table border=\"1\" class=\"dataframe\">\n",
       "  <thead>\n",
       "    <tr style=\"text-align: right;\">\n",
       "      <th></th>\n",
       "      <th>T</th>\n",
       "      <th>x</th>\n",
       "      <th>y</th>\n",
       "      <th>vx</th>\n",
       "      <th>vy</th>\n",
       "    </tr>\n",
       "  </thead>\n",
       "  <tbody>\n",
       "    <tr>\n",
       "      <th>119.0</th>\n",
       "      <td>504.000</td>\n",
       "      <td>2351.389860</td>\n",
       "      <td>79.440255</td>\n",
       "      <td>19.756819</td>\n",
       "      <td>1.205376</td>\n",
       "    </tr>\n",
       "    <tr>\n",
       "      <th>120.0</th>\n",
       "      <td>503.744</td>\n",
       "      <td>2371.156332</td>\n",
       "      <td>80.646500</td>\n",
       "      <td>19.752376</td>\n",
       "      <td>1.204639</td>\n",
       "    </tr>\n",
       "    <tr>\n",
       "      <th>121.0</th>\n",
       "      <td>503.488</td>\n",
       "      <td>2390.922067</td>\n",
       "      <td>81.850984</td>\n",
       "      <td>19.758967</td>\n",
       "      <td>1.203099</td>\n",
       "    </tr>\n",
       "    <tr>\n",
       "      <th>122.0</th>\n",
       "      <td>503.232</td>\n",
       "      <td>2410.687951</td>\n",
       "      <td>83.053531</td>\n",
       "      <td>19.763933</td>\n",
       "      <td>1.201454</td>\n",
       "    </tr>\n",
       "    <tr>\n",
       "      <th>123.0</th>\n",
       "      <td>502.976</td>\n",
       "      <td>2430.453990</td>\n",
       "      <td>84.254138</td>\n",
       "      <td>19.767680</td>\n",
       "      <td>1.199732</td>\n",
       "    </tr>\n",
       "  </tbody>\n",
       "</table>\n",
       "</div>"
      ],
      "text/plain": [
       "             T            x          y         vx        vy\n",
       "119.0  504.000  2351.389860  79.440255  19.756819  1.205376\n",
       "120.0  503.744  2371.156332  80.646500  19.752376  1.204639\n",
       "121.0  503.488  2390.922067  81.850984  19.758967  1.203099\n",
       "122.0  503.232  2410.687951  83.053531  19.763933  1.201454\n",
       "123.0  502.976  2430.453990  84.254138  19.767680  1.199732"
      ]
     },
     "execution_count": 24,
     "metadata": {},
     "output_type": "execute_result"
    }
   ],
   "source": [
    "ts = linrange(system2.t_0/s, system2.t_end/s, 1)\n",
    "results_cool, details = run_ode_solver(system2, slope_func_cool, t_eval = ts, events=event_func)\n",
    "results_cool.head()"
   ]
  },
  {
   "cell_type": "code",
   "execution_count": 25,
   "metadata": {},
   "outputs": [
    {
     "data": {
      "text/plain": [
       "[<matplotlib.lines.Line2D at 0x2214208e588>]"
      ]
     },
     "execution_count": 25,
     "metadata": {},
     "output_type": "execute_result"
    },
    {
     "data": {
      "image/png": "[encoded data removed]",
      "text/plain": [
       "<Figure size 432x288 with 1 Axes>"
      ]
     },
     "metadata": {
      "needs_background": "light"
     },
     "output_type": "display_data"
    }
   ],
   "source": [
    "plot(results_cool.y)"
   ]
  },
  {
   "cell_type": "code",
   "execution_count": 26,
   "metadata": {},
   "outputs": [
    {
     "data": {
      "text/plain": [
       "[<matplotlib.lines.Line2D at 0x221420cea58>]"
      ]
     },
     "execution_count": 26,
     "metadata": {},
     "output_type": "execute_result"
    },
    {
     "data": {
      "image/png": "[encoded data removed]",
      "text/plain": [
       "<Figure size 432x288 with 1 Axes>"
      ]
     },
     "metadata": {
      "needs_background": "light"
     },
     "output_type": "display_data"
    }
   ],
   "source": [
    "results = results_cool.combine_first(results_heat)\n",
    "plot(results.x, results.y)"
   ]
  },
  {
   "cell_type": "code",
   "execution_count": 27,
   "metadata": {},
   "outputs": [],
   "source": [
    "def AC_event_func(state, t, system):\n",
    "    T, x, y, vx, vy = state\n",
    "    return x - 28"
   ]
  },
  {
   "cell_type": "code",
   "execution_count": 28,
   "metadata": {},
   "outputs": [],
   "source": [
    "def height_func(wind_speed, system):\n",
    "    \"\"\"Computes the height of the ballon when it reaches the AC.\n",
    "    \n",
    "    wind_speed: wind speed in m/s\n",
    "    system: System object\n",
    "    \n",
    "    returns: height in meters\n",
    "    \"\"\"    \n",
    "    system.wind_speed = wind_speed\n",
    "    results, details = run_ode_solver(system, slope_func_heat, events=AC_event_func)\n",
    "    height = get_last_value(results.y)\n",
    "    \n",
    "    return height"
   ]
  },
  {
   "cell_type": "code",
   "execution_count": 29,
   "metadata": {},
   "outputs": [
    {
     "data": {
      "text/plain": [
       "94.72633813776339"
      ]
     },
     "execution_count": 29,
     "metadata": {},
     "output_type": "execute_result"
    }
   ],
   "source": [
    "height_func(1.5, system1)"
   ]
  },
  {
   "cell_type": "code",
   "execution_count": 30,
   "metadata": {},
   "outputs": [],
   "source": [
    "def error_func(wind_speed, system):\n",
    "    \"\"\"Returns the height at the AC minus the target height.\n",
    "    \n",
    "    velocity: initial velocity in m/s\n",
    "    params: Params object\n",
    "    \n",
    "    returns: height difference in meters\n",
    "    \"\"\"    \n",
    "    system.wind_speed = wind_speed\n",
    "    height = height_func(wind_speed,system)\n",
    "    return abs(18.9 - height)"
   ]
  },
  {
   "cell_type": "code",
   "execution_count": 31,
   "metadata": {},
   "outputs": [
    {
     "data": {
      "text/html": [
       "<div>\n",
       "<style scoped>\n",
       "    .dataframe tbody tr th:only-of-type {\n",
       "        vertical-align: middle;\n",
       "    }\n",
       "\n",
       "    .dataframe tbody tr th {\n",
       "        vertical-align: top;\n",
       "    }\n",
       "\n",
       "    .dataframe thead th {\n",
       "        text-align: right;\n",
       "    }\n",
       "</style>\n",
       "<table border=\"1\" class=\"dataframe\">\n",
       "  <thead>\n",
       "    <tr style=\"text-align: right;\">\n",
       "      <th></th>\n",
       "      <th>values</th>\n",
       "    </tr>\n",
       "  </thead>\n",
       "  <tbody>\n",
       "    <tr>\n",
       "      <th>fun</th>\n",
       "      <td>0.00349407</td>\n",
       "    </tr>\n",
       "    <tr>\n",
       "      <th>status</th>\n",
       "      <td>0</td>\n",
       "    </tr>\n",
       "    <tr>\n",
       "      <th>success</th>\n",
       "      <td>True</td>\n",
       "    </tr>\n",
       "    <tr>\n",
       "      <th>message</th>\n",
       "      <td>Solution found.</td>\n",
       "    </tr>\n",
       "    <tr>\n",
       "      <th>x</th>\n",
       "      <td>2.37686</td>\n",
       "    </tr>\n",
       "    <tr>\n",
       "      <th>nfev</th>\n",
       "      <td>17</td>\n",
       "    </tr>\n",
       "  </tbody>\n",
       "</table>\n",
       "</div>"
      ],
      "text/plain": [
       "fun             0.00349407\n",
       "status                   0\n",
       "success               True\n",
       "message    Solution found.\n",
       "x                  2.37686\n",
       "nfev                    17\n",
       "dtype: object"
      ]
     },
     "execution_count": 31,
     "metadata": {},
     "output_type": "execute_result"
    }
   ],
   "source": [
    "min_bounded(error_func, [0,4.4], system1)"
   ]
  },
  {
   "cell_type": "code",
   "execution_count": null,
   "metadata": {},
   "outputs": [],
   "source": []
  }
 ],
 "metadata": {
  "kernelspec": {
   "display_name": "Python 3",
   "language": "python",
   "name": "python3"
  },
  "language_info": {
   "codemirror_mode": {
    "name": "ipython",
    "version": 3
   },
   "file_extension": ".py",
   "mimetype": "text/x-python",
   "name": "python",
   "nbconvert_exporter": "python",
   "pygments_lexer": "ipython3",
   "version": "3.6.6"
  }
 },
 "nbformat": 4,
 "nbformat_minor": 2
}
