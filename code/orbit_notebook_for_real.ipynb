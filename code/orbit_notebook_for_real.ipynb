{
 "cells": [
  {
   "cell_type": "code",
   "execution_count": 1,
   "metadata": {},
   "outputs": [],
   "source": [
    "# Configure Jupyter so figures appear in the notebook\n",
    "%matplotlib inline\n",
    "\n",
    "# Configure Jupyter to display the assigned value after an assignment\n",
    "%config InteractiveShell.ast_node_interactivity='last_expr_or_assign'\n",
    "\n",
    "# import functions from the modsim.py module\n",
    "from modsim import *"
   ]
  },
  {
   "cell_type": "code",
   "execution_count": 2,
   "metadata": {},
   "outputs": [
    {
     "data": {
      "text/html": [
       "year"
      ],
      "text/latex": [
       "$year$"
      ],
      "text/plain": [
       "<Unit('year')>"
      ]
     },
     "execution_count": 2,
     "metadata": {},
     "output_type": "execute_result"
    }
   ],
   "source": [
    "# Here are the units we'll need\n",
    "\n",
    "s = UNITS.second\n",
    "N = UNITS.newton\n",
    "kg = UNITS.kilogram\n",
    "m = UNITS.meter\n",
    "y = UNITS.year"
   ]
  },
  {
   "cell_type": "code",
   "execution_count": 3,
   "metadata": {},
   "outputs": [
    {
     "name": "stdout",
     "output_type": "stream",
     "text": [
      "x       147000000000.0 meter\n",
      "y                    0 meter\n",
      "vx        0.0 meter / second\n",
      "vy    30330.0 meter / second\n",
      "dtype: object\n"
     ]
    }
   ],
   "source": [
    "# And an inition condition (with everything in SI units)\n",
    "\n",
    "x_0 = 147e9 * m\n",
    "y_0 = 0 *m \n",
    "vx_0 = 0 * m/s\n",
    "vy_0 = 30330 * m/s\n",
    "\n",
    "init = State(x = x_0,\n",
    "             y = y_0,\n",
    "             vx = vx_0,\n",
    "             vy = vy_0,)\n",
    "print(init)"
   ]
  },
  {
   "cell_type": "code",
   "execution_count": 4,
   "metadata": {},
   "outputs": [
    {
     "data": {
      "text/html": [
       "<div>\n",
       "<style scoped>\n",
       "    .dataframe tbody tr th:only-of-type {\n",
       "        vertical-align: middle;\n",
       "    }\n",
       "\n",
       "    .dataframe tbody tr th {\n",
       "        vertical-align: top;\n",
       "    }\n",
       "\n",
       "    .dataframe thead th {\n",
       "        text-align: right;\n",
       "    }\n",
       "</style>\n",
       "<table border=\"1\" class=\"dataframe\">\n",
       "  <thead>\n",
       "    <tr style=\"text-align: right;\">\n",
       "      <th></th>\n",
       "      <th>values</th>\n",
       "    </tr>\n",
       "  </thead>\n",
       "  <tbody>\n",
       "    <tr>\n",
       "      <th>init</th>\n",
       "      <td>x       147000000000.0 meter\n",
       "y                ...</td>\n",
       "    </tr>\n",
       "    <tr>\n",
       "      <th>G</th>\n",
       "      <td>6.674e-11 meter ** 2 * newton / kilogram ** 2</td>\n",
       "    </tr>\n",
       "    <tr>\n",
       "      <th>m1</th>\n",
       "      <td>1.989e+30 kilogram</td>\n",
       "    </tr>\n",
       "    <tr>\n",
       "      <th>r_final</th>\n",
       "      <td>701879000.0 meter</td>\n",
       "    </tr>\n",
       "    <tr>\n",
       "      <th>m2</th>\n",
       "      <td>5.972e+24 kilogram</td>\n",
       "    </tr>\n",
       "    <tr>\n",
       "      <th>t_0</th>\n",
       "      <td>0 second</td>\n",
       "    </tr>\n",
       "    <tr>\n",
       "      <th>t_end</th>\n",
       "      <td>10000000.0 second</td>\n",
       "    </tr>\n",
       "  </tbody>\n",
       "</table>\n",
       "</div>"
      ],
      "text/plain": [
       "init       x       147000000000.0 meter\n",
       "y                ...\n",
       "G              6.674e-11 meter ** 2 * newton / kilogram ** 2\n",
       "m1                                        1.989e+30 kilogram\n",
       "r_final                                    701879000.0 meter\n",
       "m2                                        5.972e+24 kilogram\n",
       "t_0                                                 0 second\n",
       "t_end                                      10000000.0 second\n",
       "dtype: object"
      ]
     },
     "execution_count": 4,
     "metadata": {},
     "output_type": "execute_result"
    }
   ],
   "source": [
    "# Making a system object\n",
    "\n",
    "r_earth = 6.371e6 * m\n",
    "r_sun = 695.508e6 * m\n",
    "\n",
    "system = System(init=init,\n",
    "                G=6.674e-11 * N / kg**2 * m**2,\n",
    "                m1=1.989e30 * kg,\n",
    "                r_final=r_sun + r_earth,\n",
    "                m2=5.972e24 * kg,\n",
    "                t_0=0 * s,\n",
    "                t_end=1e7 * s)"
   ]
  },
  {
   "cell_type": "code",
   "execution_count": 5,
   "metadata": {},
   "outputs": [],
   "source": [
    "def universal_gravitation2(state, system):\n",
    "    \"\"\"Computes gravitational force.\n",
    "    \n",
    "    state: State object with distance r\n",
    "    system: System object with m1, m2, and G\n",
    "    \"\"\"\n",
    "    x, y, vx, vy, = state\n",
    "    unpack(system)\n",
    "    \n",
    "    r = Vector(x,y)\n",
    "    force = G * m1 * m2 / r.mag**2 \n",
    "    force_d = -r.hat() * force\n",
    "    return force_d"
   ]
  },
  {
   "cell_type": "code",
   "execution_count": 6,
   "metadata": {},
   "outputs": [
    {
     "data": {
      "text/html": [
       "[-3.6686486e+22 -0.0000000e+00] newton"
      ],
      "text/latex": [
       "$[-3.6686486e+22 -0.0000000e+00] newton$"
      ],
      "text/plain": [
       "<Quantity([-3.6686486e+22 -0.0000000e+00], 'newton')>"
      ]
     },
     "execution_count": 6,
     "metadata": {},
     "output_type": "execute_result"
    }
   ],
   "source": [
    "universal_gravitation2(init,system)"
   ]
  },
  {
   "cell_type": "code",
   "execution_count": 7,
   "metadata": {},
   "outputs": [],
   "source": [
    "def slope_func2(state, t, system):\n",
    "    \"\"\"Compute derivatives of the state.\n",
    "    \n",
    "    state: position, velocity\n",
    "    t: time\n",
    "    system: System object containing `g`\n",
    "    \n",
    "    returns: derivatives of y and v\n",
    "    \"\"\"\n",
    "    x, y, vx, vy = state\n",
    "    unpack(system)    \n",
    "\n",
    "    force_vector = universal_gravitation2(state, system)\n",
    "    r = Vector(x,y)\n",
    "    # calculate derivatives\n",
    "    dxdt = vx\n",
    "    dydt = vy\n",
    "    accelerationVector = force_vector / m2\n",
    "    #print(accelerationVector.x.mag)\n",
    "    return dxdt, dydt, accelerationVector.x.mag, accelerationVector.y.mag"
   ]
  },
  {
   "cell_type": "code",
   "execution_count": 8,
   "metadata": {},
   "outputs": [],
   "source": [
    "# new slope_func that works because last one didn't for some reason\n",
    "def slope_func3(state, t, system):\n",
    "    \"\"\"Compute derivatives of the state.\n",
    "    \n",
    "    state: position, velocity\n",
    "    t: time\n",
    "    system: System object containing `g`\n",
    "    \n",
    "    returns: derivatives of y and v\n",
    "    \"\"\"\n",
    "    \n",
    "    x, y, vx, vy = state\n",
    "    unpack(system) \n",
    "    r = Vector(x,y)\n",
    "    \n",
    "    force_vector = universal_gravitation2(state, system)\n",
    "    a = force_vector / m2\n",
    "    \n",
    "    return vx, vy, a.x, a.y"
   ]
  },
  {
   "cell_type": "code",
   "execution_count": 9,
   "metadata": {},
   "outputs": [
    {
     "data": {
      "text/plain": [
       "(<Quantity(0.0, 'meter / second')>,\n",
       " <Quantity(30330.0, 'meter / second')>,\n",
       " <Quantity(-0.006143082049146188, 'newton / kilogram')>,\n",
       " <Quantity(-0.0, 'newton / kilogram')>)"
      ]
     },
     "execution_count": 9,
     "metadata": {},
     "output_type": "execute_result"
    }
   ],
   "source": [
    "# testing slope_func3\n",
    "\n",
    "slope_func3(init, 0, system)"
   ]
  },
  {
   "cell_type": "code",
   "execution_count": 10,
   "metadata": {},
   "outputs": [
    {
     "data": {
      "text/html": [
       "<div>\n",
       "<style scoped>\n",
       "    .dataframe tbody tr th:only-of-type {\n",
       "        vertical-align: middle;\n",
       "    }\n",
       "\n",
       "    .dataframe tbody tr th {\n",
       "        vertical-align: top;\n",
       "    }\n",
       "\n",
       "    .dataframe thead th {\n",
       "        text-align: right;\n",
       "    }\n",
       "</style>\n",
       "<table border=\"1\" class=\"dataframe\">\n",
       "  <thead>\n",
       "    <tr style=\"text-align: right;\">\n",
       "      <th></th>\n",
       "      <th>values</th>\n",
       "    </tr>\n",
       "  </thead>\n",
       "  <tbody>\n",
       "    <tr>\n",
       "      <th>sol</th>\n",
       "      <td>None</td>\n",
       "    </tr>\n",
       "    <tr>\n",
       "      <th>t_events</th>\n",
       "      <td>[]</td>\n",
       "    </tr>\n",
       "    <tr>\n",
       "      <th>nfev</th>\n",
       "      <td>110</td>\n",
       "    </tr>\n",
       "    <tr>\n",
       "      <th>njev</th>\n",
       "      <td>0</td>\n",
       "    </tr>\n",
       "    <tr>\n",
       "      <th>nlu</th>\n",
       "      <td>0</td>\n",
       "    </tr>\n",
       "    <tr>\n",
       "      <th>status</th>\n",
       "      <td>0</td>\n",
       "    </tr>\n",
       "    <tr>\n",
       "      <th>message</th>\n",
       "      <td>The solver successfully reached the end of the...</td>\n",
       "    </tr>\n",
       "    <tr>\n",
       "      <th>success</th>\n",
       "      <td>True</td>\n",
       "    </tr>\n",
       "  </tbody>\n",
       "</table>\n",
       "</div>"
      ],
      "text/plain": [
       "sol                                                      None\n",
       "t_events                                                   []\n",
       "nfev                                                      110\n",
       "njev                                                        0\n",
       "nlu                                                         0\n",
       "status                                                      0\n",
       "message     The solver successfully reached the end of the...\n",
       "success                                                  True\n",
       "dtype: object"
      ]
     },
     "execution_count": 10,
     "metadata": {},
     "output_type": "execute_result"
    }
   ],
   "source": [
    "#Running simulation\n",
    "results, details = run_ode_solver(system, slope_func3)\n",
    "details"
   ]
  },
  {
   "cell_type": "code",
   "execution_count": 11,
   "metadata": {},
   "outputs": [
    {
     "data": {
      "text/html": [
       "<div>\n",
       "<style scoped>\n",
       "    .dataframe tbody tr th:only-of-type {\n",
       "        vertical-align: middle;\n",
       "    }\n",
       "\n",
       "    .dataframe tbody tr th {\n",
       "        vertical-align: top;\n",
       "    }\n",
       "\n",
       "    .dataframe thead th {\n",
       "        text-align: right;\n",
       "    }\n",
       "</style>\n",
       "<table border=\"1\" class=\"dataframe\">\n",
       "  <thead>\n",
       "    <tr style=\"text-align: right;\">\n",
       "      <th></th>\n",
       "      <th>x</th>\n",
       "      <th>y</th>\n",
       "      <th>vx</th>\n",
       "      <th>vy</th>\n",
       "    </tr>\n",
       "  </thead>\n",
       "  <tbody>\n",
       "    <tr>\n",
       "      <th>0.000000e+00</th>\n",
       "      <td>1.470000e+11</td>\n",
       "      <td>0.000000e+00</td>\n",
       "      <td>0.000000e+00</td>\n",
       "      <td>30330.000000</td>\n",
       "    </tr>\n",
       "    <tr>\n",
       "      <th>4.662755e-08</th>\n",
       "      <td>1.470000e+11</td>\n",
       "      <td>1.414214e-03</td>\n",
       "      <td>-2.864369e-10</td>\n",
       "      <td>30330.000000</td>\n",
       "    </tr>\n",
       "    <tr>\n",
       "      <th>5.129030e-07</th>\n",
       "      <td>1.470000e+11</td>\n",
       "      <td>1.555635e-02</td>\n",
       "      <td>-3.150805e-09</td>\n",
       "      <td>30330.000000</td>\n",
       "    </tr>\n",
       "    <tr>\n",
       "      <th>5.175658e-06</th>\n",
       "      <td>1.470000e+11</td>\n",
       "      <td>1.569777e-01</td>\n",
       "      <td>-3.179449e-08</td>\n",
       "      <td>30330.000000</td>\n",
       "    </tr>\n",
       "    <tr>\n",
       "      <th>5.180321e-05</th>\n",
       "      <td>1.470000e+11</td>\n",
       "      <td>1.571191e+00</td>\n",
       "      <td>-3.182313e-07</td>\n",
       "      <td>30330.000000</td>\n",
       "    </tr>\n",
       "    <tr>\n",
       "      <th>5.180787e-04</th>\n",
       "      <td>1.470000e+11</td>\n",
       "      <td>1.571333e+01</td>\n",
       "      <td>-3.182600e-06</td>\n",
       "      <td>30330.000000</td>\n",
       "    </tr>\n",
       "    <tr>\n",
       "      <th>5.180834e-03</th>\n",
       "      <td>1.470000e+11</td>\n",
       "      <td>1.571347e+02</td>\n",
       "      <td>-3.182629e-05</td>\n",
       "      <td>30330.000000</td>\n",
       "    </tr>\n",
       "    <tr>\n",
       "      <th>5.180838e-02</th>\n",
       "      <td>1.470000e+11</td>\n",
       "      <td>1.571348e+03</td>\n",
       "      <td>-3.182631e-04</td>\n",
       "      <td>30330.000000</td>\n",
       "    </tr>\n",
       "    <tr>\n",
       "      <th>5.180839e-01</th>\n",
       "      <td>1.470000e+11</td>\n",
       "      <td>1.571348e+04</td>\n",
       "      <td>-3.182632e-03</td>\n",
       "      <td>30330.000000</td>\n",
       "    </tr>\n",
       "    <tr>\n",
       "      <th>5.180839e+00</th>\n",
       "      <td>1.470000e+11</td>\n",
       "      <td>1.571348e+05</td>\n",
       "      <td>-3.182632e-02</td>\n",
       "      <td>30330.000000</td>\n",
       "    </tr>\n",
       "    <tr>\n",
       "      <th>5.180839e+01</th>\n",
       "      <td>1.470000e+11</td>\n",
       "      <td>1.571348e+06</td>\n",
       "      <td>-3.182632e-01</td>\n",
       "      <td>30329.999998</td>\n",
       "    </tr>\n",
       "    <tr>\n",
       "      <th>5.180839e+02</th>\n",
       "      <td>1.470000e+11</td>\n",
       "      <td>1.571348e+07</td>\n",
       "      <td>-3.182632e+00</td>\n",
       "      <td>30329.999830</td>\n",
       "    </tr>\n",
       "    <tr>\n",
       "      <th>5.180839e+03</th>\n",
       "      <td>1.469999e+11</td>\n",
       "      <td>1.571348e+08</td>\n",
       "      <td>-3.182631e+01</td>\n",
       "      <td>30329.982990</td>\n",
       "    </tr>\n",
       "    <tr>\n",
       "      <th>5.180839e+04</th>\n",
       "      <td>1.469918e+11</td>\n",
       "      <td>1.571319e+09</td>\n",
       "      <td>-3.182569e+02</td>\n",
       "      <td>30328.298990</td>\n",
       "    </tr>\n",
       "    <tr>\n",
       "      <th>5.180839e+05</th>\n",
       "      <td>1.461764e+11</td>\n",
       "      <td>1.568413e+10</td>\n",
       "      <td>-3.176353e+03</td>\n",
       "      <td>30160.082815</td>\n",
       "    </tr>\n",
       "    <tr>\n",
       "      <th>3.842569e+06</th>\n",
       "      <td>1.040238e+11</td>\n",
       "      <td>1.049633e+11</td>\n",
       "      <td>-2.116123e+04</td>\n",
       "      <td>21494.748487</td>\n",
       "    </tr>\n",
       "    <tr>\n",
       "      <th>8.292071e+06</th>\n",
       "      <td>-1.716810e+10</td>\n",
       "      <td>1.487554e+11</td>\n",
       "      <td>-2.953900e+04</td>\n",
       "      <td>-3056.129243</td>\n",
       "    </tr>\n",
       "    <tr>\n",
       "      <th>1.000000e+07</th>\n",
       "      <td>-6.568301e+10</td>\n",
       "      <td>1.351711e+11</td>\n",
       "      <td>-2.673353e+04</td>\n",
       "      <td>-12681.331069</td>\n",
       "    </tr>\n",
       "  </tbody>\n",
       "</table>\n",
       "</div>"
      ],
      "text/plain": [
       "                         x             y            vx            vy\n",
       "0.000000e+00  1.470000e+11  0.000000e+00  0.000000e+00  30330.000000\n",
       "4.662755e-08  1.470000e+11  1.414214e-03 -2.864369e-10  30330.000000\n",
       "5.129030e-07  1.470000e+11  1.555635e-02 -3.150805e-09  30330.000000\n",
       "5.175658e-06  1.470000e+11  1.569777e-01 -3.179449e-08  30330.000000\n",
       "5.180321e-05  1.470000e+11  1.571191e+00 -3.182313e-07  30330.000000\n",
       "5.180787e-04  1.470000e+11  1.571333e+01 -3.182600e-06  30330.000000\n",
       "5.180834e-03  1.470000e+11  1.571347e+02 -3.182629e-05  30330.000000\n",
       "5.180838e-02  1.470000e+11  1.571348e+03 -3.182631e-04  30330.000000\n",
       "5.180839e-01  1.470000e+11  1.571348e+04 -3.182632e-03  30330.000000\n",
       "5.180839e+00  1.470000e+11  1.571348e+05 -3.182632e-02  30330.000000\n",
       "5.180839e+01  1.470000e+11  1.571348e+06 -3.182632e-01  30329.999998\n",
       "5.180839e+02  1.470000e+11  1.571348e+07 -3.182632e+00  30329.999830\n",
       "5.180839e+03  1.469999e+11  1.571348e+08 -3.182631e+01  30329.982990\n",
       "5.180839e+04  1.469918e+11  1.571319e+09 -3.182569e+02  30328.298990\n",
       "5.180839e+05  1.461764e+11  1.568413e+10 -3.176353e+03  30160.082815\n",
       "3.842569e+06  1.040238e+11  1.049633e+11 -2.116123e+04  21494.748487\n",
       "8.292071e+06 -1.716810e+10  1.487554e+11 -2.953900e+04  -3056.129243\n",
       "1.000000e+07 -6.568301e+10  1.351711e+11 -2.673353e+04 -12681.331069"
      ]
     },
     "execution_count": 11,
     "metadata": {},
     "output_type": "execute_result"
    }
   ],
   "source": [
    "results"
   ]
  },
  {
   "cell_type": "code",
   "execution_count": 12,
   "metadata": {},
   "outputs": [
    {
     "data": {
      "text/html": [
       "10000000.0 second"
      ],
      "text/latex": [
       "$10000000.0 second$"
      ],
      "text/plain": [
       "<Quantity(10000000.0, 'second')>"
      ]
     },
     "execution_count": 12,
     "metadata": {},
     "output_type": "execute_result"
    }
   ],
   "source": [
    "# Here's how long it takes...\n",
    "\n",
    "t_final = get_last_label(results) * s"
   ]
  },
  {
   "cell_type": "code",
   "execution_count": 13,
   "metadata": {},
   "outputs": [
    {
     "data": {
      "text/html": [
       "701879000.0 meter"
      ],
      "text/latex": [
       "$701879000.0 meter$"
      ],
      "text/plain": [
       "<Quantity(701879000.0, 'meter')>"
      ]
     },
     "execution_count": 13,
     "metadata": {},
     "output_type": "execute_result"
    }
   ],
   "source": [
    "r_final"
   ]
  },
  {
   "cell_type": "code",
   "execution_count": 14,
   "metadata": {},
   "outputs": [
    {
     "data": {
      "text/html": [
       "<div>\n",
       "<style scoped>\n",
       "    .dataframe tbody tr th:only-of-type {\n",
       "        vertical-align: middle;\n",
       "    }\n",
       "\n",
       "    .dataframe tbody tr th {\n",
       "        vertical-align: top;\n",
       "    }\n",
       "\n",
       "    .dataframe thead th {\n",
       "        text-align: right;\n",
       "    }\n",
       "</style>\n",
       "<table border=\"1\" class=\"dataframe\">\n",
       "  <thead>\n",
       "    <tr style=\"text-align: right;\">\n",
       "      <th></th>\n",
       "      <th>x</th>\n",
       "      <th>y</th>\n",
       "      <th>vx</th>\n",
       "      <th>vy</th>\n",
       "    </tr>\n",
       "  </thead>\n",
       "  <tbody>\n",
       "    <tr>\n",
       "      <th>0.000000e+00</th>\n",
       "      <td>1.470000e+11</td>\n",
       "      <td>0.000000e+00</td>\n",
       "      <td>0.000000e+00</td>\n",
       "      <td>30330.000000</td>\n",
       "    </tr>\n",
       "    <tr>\n",
       "      <th>4.662755e-08</th>\n",
       "      <td>1.470000e+11</td>\n",
       "      <td>1.414214e-03</td>\n",
       "      <td>-2.864369e-10</td>\n",
       "      <td>30330.000000</td>\n",
       "    </tr>\n",
       "    <tr>\n",
       "      <th>5.129030e-07</th>\n",
       "      <td>1.470000e+11</td>\n",
       "      <td>1.555635e-02</td>\n",
       "      <td>-3.150805e-09</td>\n",
       "      <td>30330.000000</td>\n",
       "    </tr>\n",
       "    <tr>\n",
       "      <th>5.175658e-06</th>\n",
       "      <td>1.470000e+11</td>\n",
       "      <td>1.569777e-01</td>\n",
       "      <td>-3.179449e-08</td>\n",
       "      <td>30330.000000</td>\n",
       "    </tr>\n",
       "    <tr>\n",
       "      <th>5.180321e-05</th>\n",
       "      <td>1.470000e+11</td>\n",
       "      <td>1.571191e+00</td>\n",
       "      <td>-3.182313e-07</td>\n",
       "      <td>30330.000000</td>\n",
       "    </tr>\n",
       "    <tr>\n",
       "      <th>5.180787e-04</th>\n",
       "      <td>1.470000e+11</td>\n",
       "      <td>1.571333e+01</td>\n",
       "      <td>-3.182600e-06</td>\n",
       "      <td>30330.000000</td>\n",
       "    </tr>\n",
       "    <tr>\n",
       "      <th>5.180834e-03</th>\n",
       "      <td>1.470000e+11</td>\n",
       "      <td>1.571347e+02</td>\n",
       "      <td>-3.182629e-05</td>\n",
       "      <td>30330.000000</td>\n",
       "    </tr>\n",
       "    <tr>\n",
       "      <th>5.180838e-02</th>\n",
       "      <td>1.470000e+11</td>\n",
       "      <td>1.571348e+03</td>\n",
       "      <td>-3.182631e-04</td>\n",
       "      <td>30330.000000</td>\n",
       "    </tr>\n",
       "    <tr>\n",
       "      <th>5.180839e-01</th>\n",
       "      <td>1.470000e+11</td>\n",
       "      <td>1.571348e+04</td>\n",
       "      <td>-3.182632e-03</td>\n",
       "      <td>30330.000000</td>\n",
       "    </tr>\n",
       "    <tr>\n",
       "      <th>5.180839e+00</th>\n",
       "      <td>1.470000e+11</td>\n",
       "      <td>1.571348e+05</td>\n",
       "      <td>-3.182632e-02</td>\n",
       "      <td>30330.000000</td>\n",
       "    </tr>\n",
       "    <tr>\n",
       "      <th>5.180839e+01</th>\n",
       "      <td>1.470000e+11</td>\n",
       "      <td>1.571348e+06</td>\n",
       "      <td>-3.182632e-01</td>\n",
       "      <td>30329.999998</td>\n",
       "    </tr>\n",
       "    <tr>\n",
       "      <th>5.180839e+02</th>\n",
       "      <td>1.470000e+11</td>\n",
       "      <td>1.571348e+07</td>\n",
       "      <td>-3.182632e+00</td>\n",
       "      <td>30329.999830</td>\n",
       "    </tr>\n",
       "    <tr>\n",
       "      <th>5.180839e+03</th>\n",
       "      <td>1.469999e+11</td>\n",
       "      <td>1.571348e+08</td>\n",
       "      <td>-3.182631e+01</td>\n",
       "      <td>30329.982990</td>\n",
       "    </tr>\n",
       "    <tr>\n",
       "      <th>5.180839e+04</th>\n",
       "      <td>1.469918e+11</td>\n",
       "      <td>1.571319e+09</td>\n",
       "      <td>-3.182569e+02</td>\n",
       "      <td>30328.298990</td>\n",
       "    </tr>\n",
       "    <tr>\n",
       "      <th>5.180839e+05</th>\n",
       "      <td>1.461764e+11</td>\n",
       "      <td>1.568413e+10</td>\n",
       "      <td>-3.176353e+03</td>\n",
       "      <td>30160.082815</td>\n",
       "    </tr>\n",
       "    <tr>\n",
       "      <th>3.842569e+06</th>\n",
       "      <td>1.040238e+11</td>\n",
       "      <td>1.049633e+11</td>\n",
       "      <td>-2.116123e+04</td>\n",
       "      <td>21494.748487</td>\n",
       "    </tr>\n",
       "    <tr>\n",
       "      <th>8.292071e+06</th>\n",
       "      <td>-1.716810e+10</td>\n",
       "      <td>1.487554e+11</td>\n",
       "      <td>-2.953900e+04</td>\n",
       "      <td>-3056.129243</td>\n",
       "    </tr>\n",
       "    <tr>\n",
       "      <th>1.000000e+07</th>\n",
       "      <td>-6.568301e+10</td>\n",
       "      <td>1.351711e+11</td>\n",
       "      <td>-2.673353e+04</td>\n",
       "      <td>-12681.331069</td>\n",
       "    </tr>\n",
       "  </tbody>\n",
       "</table>\n",
       "</div>"
      ],
      "text/plain": [
       "                         x             y            vx            vy\n",
       "0.000000e+00  1.470000e+11  0.000000e+00  0.000000e+00  30330.000000\n",
       "4.662755e-08  1.470000e+11  1.414214e-03 -2.864369e-10  30330.000000\n",
       "5.129030e-07  1.470000e+11  1.555635e-02 -3.150805e-09  30330.000000\n",
       "5.175658e-06  1.470000e+11  1.569777e-01 -3.179449e-08  30330.000000\n",
       "5.180321e-05  1.470000e+11  1.571191e+00 -3.182313e-07  30330.000000\n",
       "5.180787e-04  1.470000e+11  1.571333e+01 -3.182600e-06  30330.000000\n",
       "5.180834e-03  1.470000e+11  1.571347e+02 -3.182629e-05  30330.000000\n",
       "5.180838e-02  1.470000e+11  1.571348e+03 -3.182631e-04  30330.000000\n",
       "5.180839e-01  1.470000e+11  1.571348e+04 -3.182632e-03  30330.000000\n",
       "5.180839e+00  1.470000e+11  1.571348e+05 -3.182632e-02  30330.000000\n",
       "5.180839e+01  1.470000e+11  1.571348e+06 -3.182632e-01  30329.999998\n",
       "5.180839e+02  1.470000e+11  1.571348e+07 -3.182632e+00  30329.999830\n",
       "5.180839e+03  1.469999e+11  1.571348e+08 -3.182631e+01  30329.982990\n",
       "5.180839e+04  1.469918e+11  1.571319e+09 -3.182569e+02  30328.298990\n",
       "5.180839e+05  1.461764e+11  1.568413e+10 -3.176353e+03  30160.082815\n",
       "3.842569e+06  1.040238e+11  1.049633e+11 -2.116123e+04  21494.748487\n",
       "8.292071e+06 -1.716810e+10  1.487554e+11 -2.953900e+04  -3056.129243\n",
       "1.000000e+07 -6.568301e+10  1.351711e+11 -2.673353e+04 -12681.331069"
      ]
     },
     "execution_count": 14,
     "metadata": {},
     "output_type": "execute_result"
    },
    {
     "data": {
      "image/png": "[encoded data removed]",
      "text/plain": [
       "<Figure size 432x288 with 1 Axes>"
      ]
     },
     "metadata": {
      "needs_background": "light"
     },
     "output_type": "display_data"
    }
   ],
   "source": [
    "plot(results.x, results.y)\n",
    "results"
   ]
  },
  {
   "cell_type": "code",
   "execution_count": 15,
   "metadata": {},
   "outputs": [
    {
     "data": {
      "text/html": [
       "10000000.0 second"
      ],
      "text/latex": [
       "$10000000.0 second$"
      ],
      "text/plain": [
       "<Quantity(10000000.0, 'second')>"
      ]
     },
     "execution_count": 15,
     "metadata": {},
     "output_type": "execute_result"
    }
   ],
   "source": [
    "t_final = get_last_label(results) * s"
   ]
  },
  {
   "cell_type": "code",
   "execution_count": 16,
   "metadata": {},
   "outputs": [
    {
     "data": {
      "text/html": [
       "<div>\n",
       "<style scoped>\n",
       "    .dataframe tbody tr th:only-of-type {\n",
       "        vertical-align: middle;\n",
       "    }\n",
       "\n",
       "    .dataframe tbody tr th {\n",
       "        vertical-align: top;\n",
       "    }\n",
       "\n",
       "    .dataframe thead th {\n",
       "        text-align: right;\n",
       "    }\n",
       "</style>\n",
       "<table border=\"1\" class=\"dataframe\">\n",
       "  <thead>\n",
       "    <tr style=\"text-align: right;\">\n",
       "      <th></th>\n",
       "      <th>values</th>\n",
       "    </tr>\n",
       "  </thead>\n",
       "  <tbody>\n",
       "    <tr>\n",
       "      <th>x</th>\n",
       "      <td>147000000000.0 meter</td>\n",
       "    </tr>\n",
       "    <tr>\n",
       "      <th>y</th>\n",
       "      <td>0 meter</td>\n",
       "    </tr>\n",
       "    <tr>\n",
       "      <th>vx</th>\n",
       "      <td>0.0 meter / second</td>\n",
       "    </tr>\n",
       "    <tr>\n",
       "      <th>vy</th>\n",
       "      <td>30330.0 meter / second</td>\n",
       "    </tr>\n",
       "  </tbody>\n",
       "</table>\n",
       "</div>"
      ],
      "text/plain": [
       "x       147000000000.0 meter\n",
       "y                    0 meter\n",
       "vx        0.0 meter / second\n",
       "vy    30330.0 meter / second\n",
       "dtype: object"
      ]
     },
     "execution_count": 16,
     "metadata": {},
     "output_type": "execute_result"
    }
   ],
   "source": [
    "x_0 = 147e9 * m\n",
    "y_0 = 0 *m \n",
    "vx_0 = 0 * m/s\n",
    "vy_0 = 30330 * m/s\n",
    "\n",
    "init = State(x = x_0,\n",
    "             y = y_0,\n",
    "             vx = vx_0,\n",
    "             vy = vy_0,)"
   ]
  },
  {
   "cell_type": "code",
   "execution_count": 17,
   "metadata": {},
   "outputs": [
    {
     "data": {
      "text/html": [
       "<div>\n",
       "<style scoped>\n",
       "    .dataframe tbody tr th:only-of-type {\n",
       "        vertical-align: middle;\n",
       "    }\n",
       "\n",
       "    .dataframe tbody tr th {\n",
       "        vertical-align: top;\n",
       "    }\n",
       "\n",
       "    .dataframe thead th {\n",
       "        text-align: right;\n",
       "    }\n",
       "</style>\n",
       "<table border=\"1\" class=\"dataframe\">\n",
       "  <thead>\n",
       "    <tr style=\"text-align: right;\">\n",
       "      <th></th>\n",
       "      <th>values</th>\n",
       "    </tr>\n",
       "  </thead>\n",
       "  <tbody>\n",
       "    <tr>\n",
       "      <th>init</th>\n",
       "      <td>x       147000000000.0 meter\n",
       "y                ...</td>\n",
       "    </tr>\n",
       "    <tr>\n",
       "      <th>G</th>\n",
       "      <td>6.674e-11 meter ** 2 * newton / kilogram ** 2</td>\n",
       "    </tr>\n",
       "    <tr>\n",
       "      <th>m1</th>\n",
       "      <td>1.989e+30 kilogram</td>\n",
       "    </tr>\n",
       "    <tr>\n",
       "      <th>r_final</th>\n",
       "      <td>701879000.0 meter</td>\n",
       "    </tr>\n",
       "    <tr>\n",
       "      <th>m2</th>\n",
       "      <td>5.972e+24 kilogram</td>\n",
       "    </tr>\n",
       "    <tr>\n",
       "      <th>t_0</th>\n",
       "      <td>0 second</td>\n",
       "    </tr>\n",
       "    <tr>\n",
       "      <th>t_end</th>\n",
       "      <td>31536000 second</td>\n",
       "    </tr>\n",
       "  </tbody>\n",
       "</table>\n",
       "</div>"
      ],
      "text/plain": [
       "init       x       147000000000.0 meter\n",
       "y                ...\n",
       "G              6.674e-11 meter ** 2 * newton / kilogram ** 2\n",
       "m1                                        1.989e+30 kilogram\n",
       "r_final                                    701879000.0 meter\n",
       "m2                                        5.972e+24 kilogram\n",
       "t_0                                                 0 second\n",
       "t_end                                        31536000 second\n",
       "dtype: object"
      ]
     },
     "execution_count": 17,
     "metadata": {},
     "output_type": "execute_result"
    }
   ],
   "source": [
    "r_earth = 6.371e6 * m\n",
    "r_sun = 695.508e6 * m\n",
    "\n",
    "system = System(init=init,\n",
    "                G=6.674e-11 * N / kg**2 * m**2,\n",
    "                m1=1.989e30 * kg,\n",
    "                r_final=r_sun + r_earth,\n",
    "                m2=5.972e24 * kg,\n",
    "                t_0=0 * s,\n",
    "                t_end=60 * 60 * 24 * 365 * s)\n"
   ]
  },
  {
   "cell_type": "code",
   "execution_count": 18,
   "metadata": {},
   "outputs": [],
   "source": [
    "#more time steps and changes ODE solver method\n",
    "t_0=0 * s\n",
    "t_end=60 * 60 * 24 * 365 * s\n",
    "ts = linspace(t_0, t_end, 201)\n",
    "results, details = run_ode_solver(system, slope_func3, t_eval=ts, method = 'RK23')"
   ]
  },
  {
   "cell_type": "code",
   "execution_count": 19,
   "metadata": {},
   "outputs": [
    {
     "data": {
      "text/plain": [
       "[<matplotlib.lines.Line2D at 0x248c75bbc88>]"
      ]
     },
     "execution_count": 19,
     "metadata": {},
     "output_type": "execute_result"
    },
    {
     "data": {
      "image/png": "[encoded data removed]",
      "text/plain": [
       "<Figure size 432x288 with 1 Axes>"
      ]
     },
     "metadata": {
      "needs_background": "light"
     },
     "output_type": "display_data"
    }
   ],
   "source": [
    "plot(results.x, results.y)"
   ]
  },
  {
   "cell_type": "code",
   "execution_count": 20,
   "metadata": {},
   "outputs": [],
   "source": [
    "#turns results into millions of km\n",
    "results.x /= 1e9\n",
    "results.y /= 1e9"
   ]
  },
  {
   "cell_type": "code",
   "execution_count": 24,
   "metadata": {},
   "outputs": [
    {
     "data": {
      "image/png": "[encoded data removed]",
      "text/plain": [
       "<Figure size 432x288 with 1 Axes>"
      ]
     },
     "metadata": {
      "needs_background": "light"
     },
     "output_type": "display_data"
    }
   ],
   "source": [
    "#plots results with labels\n",
    "plot(results.x, results.y)\n",
    "decorate(xlabel='X distance from Sun (millions of kilometer)',\n",
    "        ylabel='Y distance form Sun (millons of kilometers)',\n",
    "        title = 'Trajectory of Earth around Sun')"
   ]
  },
  {
   "cell_type": "code",
   "execution_count": null,
   "metadata": {},
   "outputs": [],
   "source": []
  }
 ],
 "metadata": {
  "kernelspec": {
   "display_name": "Python 3",
   "language": "python",
   "name": "python3"
  },
  "language_info": {
   "codemirror_mode": {
    "name": "ipython",
    "version": 3
   },
   "file_extension": ".py",
   "mimetype": "text/x-python",
   "name": "python",
   "nbconvert_exporter": "python",
   "pygments_lexer": "ipython3",
   "version": "3.6.6"
  }
 },
 "nbformat": 4,
 "nbformat_minor": 2
}
