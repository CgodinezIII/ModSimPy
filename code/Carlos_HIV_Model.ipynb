{
 "cells": [
  {
   "cell_type": "code",
   "execution_count": 1,
   "metadata": {},
   "outputs": [],
   "source": [
    "%matplotlib inline\n",
    "%config InteractiveShell.ast_node_interactivity='last_expr_or_assign'\n",
    "from modsim import *"
   ]
  },
  {
   "cell_type": "code",
   "execution_count": 2,
   "metadata": {},
   "outputs": [],
   "source": [
    "def make_system(*, gammatau=1.36*0.2, mu=1.36*0.001, beta=0.00027, rho=0.1, alpha=3.6*0.01, delta=0.33, sigma=2, pi=100, end=120):\n",
    "    init_state = State(R=200, L=0, E=0, V=0.0000004)\n",
    "    t0 = 0\n",
    "    return System(init=init_state, t0=t0, t_end=120, dt=0.1,\n",
    "                  params={'gammatau':gammatau,\n",
    "                          'mu':mu,\n",
    "                          'beta':beta,\n",
    "                          'rho':rho,\n",
    "                          'alpha':alpha,\n",
    "                          'delta':delta,\n",
    "                          'sigma':sigma,\n",
    "                          'pi': pi\n",
    "                         }\n",
    "                 )"
   ]
  },
  {
   "cell_type": "code",
   "execution_count": 3,
   "metadata": {},
   "outputs": [
    {
     "data": {
      "text/html": [
       "<div>\n",
       "<style scoped>\n",
       "    .dataframe tbody tr th:only-of-type {\n",
       "        vertical-align: middle;\n",
       "    }\n",
       "\n",
       "    .dataframe tbody tr th {\n",
       "        vertical-align: top;\n",
       "    }\n",
       "\n",
       "    .dataframe thead th {\n",
       "        text-align: right;\n",
       "    }\n",
       "</style>\n",
       "<table border=\"1\" class=\"dataframe\">\n",
       "  <thead>\n",
       "    <tr style=\"text-align: right;\">\n",
       "      <th></th>\n",
       "      <th>values</th>\n",
       "    </tr>\n",
       "  </thead>\n",
       "  <tbody>\n",
       "    <tr>\n",
       "      <th>init</th>\n",
       "      <td>R    2.000000e+02\n",
       "L    0.000000e+00\n",
       "E    0.000...</td>\n",
       "    </tr>\n",
       "    <tr>\n",
       "      <th>t0</th>\n",
       "      <td>0</td>\n",
       "    </tr>\n",
       "    <tr>\n",
       "      <th>t_end</th>\n",
       "      <td>120</td>\n",
       "    </tr>\n",
       "    <tr>\n",
       "      <th>dt</th>\n",
       "      <td>0.1</td>\n",
       "    </tr>\n",
       "    <tr>\n",
       "      <th>params</th>\n",
       "      <td>{'gammatau': 0.272, 'mu': 0.00136, 'beta': 0.0...</td>\n",
       "    </tr>\n",
       "  </tbody>\n",
       "</table>\n",
       "</div>"
      ],
      "text/plain": [
       "init      R    2.000000e+02\n",
       "L    0.000000e+00\n",
       "E    0.000...\n",
       "t0                                                        0\n",
       "t_end                                                   120\n",
       "dt                                                      0.1\n",
       "params    {'gammatau': 0.272, 'mu': 0.00136, 'beta': 0.0...\n",
       "dtype: object"
      ]
     },
     "execution_count": 3,
     "metadata": {},
     "output_type": "execute_result"
    }
   ],
   "source": [
    "sys = make_system()"
   ]
  },
  {
   "cell_type": "code",
   "execution_count": 4,
   "metadata": {},
   "outputs": [],
   "source": [
    "def update_func(state: State, t: float, system: System) -> State:\n",
    "\n",
    "    dRdt = system.params['gammatau'] + -system.params['mu']*state.R + -system.params['beta']*state.R*state.V\n",
    "    #print(system.params['gammatau'],system.params['mu']*state.R,system.params['beta']*state.R*state.V)\n",
    "    dR = dRdt*system.dt\n",
    "   # print(dR)\n",
    "    \n",
    "    dLdt = system.params['rho']*system.params['beta']*state.R*state.V + -system.params['mu']*state.L + -system.params['alpha']*state.L\n",
    "    dL = system.dt*dLdt\n",
    "    \n",
    "    dEdt = (1-system.params['rho'])*system.params['beta']*state.R*state.V + system.params['alpha']*state.L + -system.params['delta']*state.E\n",
    "    dE = dEdt*system.dt\n",
    "    \n",
    "    dVdt = system.params['pi']*state.E + -system.params['sigma']*state.V\n",
    "    dV = system.dt*dVdt\n",
    "    \n",
    "    state.R += dR\n",
    "    state.L += dL\n",
    "    state.E += dE\n",
    "    state.V += dV\n",
    "    \n",
    "    newState = State(R=state.R, L=state.L, E=state.E, V=state.V)\n",
    "    return newState"
   ]
  },
  {
   "cell_type": "code",
   "execution_count": 5,
   "metadata": {},
   "outputs": [],
   "source": [
    "def run_sim(system, update_func):\n",
    "    frame = TimeFrame(columns=system.init.index)\n",
    "    frame.row[system.t0] = system.init\n",
    "    for index in linrange(0, 1200, 1):\n",
    "        frame.row[index+1] = update_func(frame.row[index], index, system)\n",
    "    return frame"
   ]
  },
  {
   "cell_type": "code",
   "execution_count": 6,
   "metadata": {
    "scrolled": true
   },
   "outputs": [
    {
     "name": "stdout",
     "output_type": "stream",
     "text": [
      "               R             L             E             V\n",
      "0     200.000000  0.000000e+00  0.000000e+00  4.000000e-07\n",
      "1     200.000000  2.160000e-10  1.944000e-09  3.200000e-07\n",
      "2     200.000000  3.879930e-10  3.435826e-09  2.754400e-07\n",
      "3     200.000000  5.352811e-10  4.662479e-09  2.547103e-07\n",
      "4     200.000000  6.708248e-10  5.748436e-09  2.503930e-07\n",
      "5     200.000000  8.035308e-10  6.778062e-09  2.577987e-07\n",
      "6     200.000000  9.397402e-10  7.810181e-09  2.740196e-07\n",
      "7     200.000000  1.084200e-09  8.887563e-09  2.973175e-07\n",
      "8     200.000000  1.240701e-09  1.004314e-08  3.267296e-07\n",
      "9     200.000000  1.412500e-09  1.130409e-08  3.618151e-07\n",
      "10    200.000000  1.602603e-09  1.269456e-08  4.024930e-07\n",
      "11    200.000000  1.813961e-09  1.423752e-08  4.489400e-07\n",
      "12    200.000000  2.049612e-09  1.595607e-08  5.015272e-07\n",
      "13    200.000000  2.312779e-09  1.787432e-08  5.607824e-07\n",
      "14    200.000000  2.606961e-09  2.001819e-08  6.273691e-07\n",
      "15    200.000000  2.936001e-09  2.241599e-08  7.020772e-07\n",
      "16    200.000000  3.304154e-09  2.509893e-08  7.858217e-07\n",
      "17    200.000000  3.716153e-09  2.810165e-08  8.796466e-07\n",
      "18    200.000000  4.177279e-09  3.146276e-08  9.847338e-07\n",
      "19    200.000000  4.693429e-09  3.522533e-08  1.102415e-06\n",
      "20    200.000000  5.271198e-09  3.943753e-08  1.234185e-06\n",
      "21    200.000000  5.917965e-09  4.415320e-08  1.381723e-06\n",
      "22    200.000000  6.641986e-09  4.943263e-08  1.546911e-06\n",
      "23    200.000000  7.452503e-09  5.534325e-08  1.731855e-06\n",
      "24    200.000000  8.359862e-09  6.196056e-08  1.938916e-06\n",
      "25    200.000000  9.375645e-09  6.936909e-08  2.170739e-06\n",
      "26    200.000000  1.051282e-08  7.766346e-08  2.430282e-06\n",
      "27    200.000000  1.178589e-08  8.694958e-08  2.720860e-06\n",
      "28    200.000000  1.321112e-08  9.734605e-08  3.046184e-06\n",
      "29    200.000000  1.480671e-08  1.089856e-07  3.410408e-06\n",
      "...          ...           ...           ...           ...\n",
      "1171   17.412081  7.234712e-01  2.469730e-01  1.242273e+01\n",
      "1172   17.431073  7.213523e-01  2.466836e-01  1.240792e+01\n",
      "1173   17.450063  7.192413e-01  2.463956e-01  1.239317e+01\n",
      "1174   17.469051  7.171381e-01  2.461090e-01  1.237849e+01\n",
      "1175   17.488036  7.150427e-01  2.458237e-01  1.236388e+01\n",
      "1176   17.507020  7.129551e-01  2.455399e-01  1.234934e+01\n",
      "1177   17.526002  7.108753e-01  2.452574e-01  1.233487e+01\n",
      "1178   17.544981  7.088031e-01  2.449762e-01  1.232047e+01\n",
      "1179   17.563959  7.067387e-01  2.446964e-01  1.230614e+01\n",
      "1180   17.582934  7.046819e-01  2.444180e-01  1.229188e+01\n",
      "1181   17.601907  7.026328e-01  2.441410e-01  1.227768e+01\n",
      "1182   17.620879  7.005912e-01  2.438653e-01  1.226356e+01\n",
      "1183   17.639848  6.985573e-01  2.435910e-01  1.224950e+01\n",
      "1184   17.658814  6.965309e-01  2.433180e-01  1.223551e+01\n",
      "1185   17.677779  6.945120e-01  2.430464e-01  1.222159e+01\n",
      "1186   17.696741  6.925006e-01  2.427761e-01  1.220773e+01\n",
      "1187   17.715702  6.904968e-01  2.425072e-01  1.219395e+01\n",
      "1188   17.734660  6.885003e-01  2.422397e-01  1.218023e+01\n",
      "1189   17.753615  6.865113e-01  2.419734e-01  1.216658e+01\n",
      "1190   17.772569  6.845297e-01  2.417086e-01  1.215300e+01\n",
      "1191   17.791520  6.825555e-01  2.414451e-01  1.213948e+01\n",
      "1192   17.810469  6.805886e-01  2.411829e-01  1.212604e+01\n",
      "1193   17.829416  6.786291e-01  2.409220e-01  1.211266e+01\n",
      "1194   17.848360  6.766768e-01  2.406626e-01  1.209935e+01\n",
      "1195   17.867302  6.747318e-01  2.404044e-01  1.208610e+01\n",
      "1196   17.886241  6.727941e-01  2.401476e-01  1.207293e+01\n",
      "1197   17.905178  6.708635e-01  2.398921e-01  1.205982e+01\n",
      "1198   17.924113  6.689402e-01  2.396379e-01  1.204677e+01\n",
      "1199   17.943045  6.670241e-01  2.393851e-01  1.203380e+01\n",
      "1200   17.961975  6.651150e-01  2.391336e-01  1.202089e+01\n",
      "\n",
      "[1201 rows x 4 columns]\n"
     ]
    }
   ],
   "source": [
    "sys = make_system()\n",
    "result = run_sim(sys, update_func);\n",
    "#plot(result.R, '-', label='r')\n",
    "#plot(result.L, '-', label='l')\n",
    "#plot(result.E, '-', label='e')\n",
    "#plot(result.V, '-', label='v')\n",
    "#decorate(xlabel='Time (idk)',\n",
    "         #ylabel='AAAAAA')\n",
    "print(result)"
   ]
  },
  {
   "cell_type": "code",
   "execution_count": 7,
   "metadata": {},
   "outputs": [
    {
     "data": {
      "image/png": "[encoded data removed]",
      "text/plain": [
       "<Figure size 432x288 with 1 Axes>"
      ]
     },
     "metadata": {
      "needs_background": "light"
     },
     "output_type": "display_data"
    }
   ],
   "source": [
    "plot(result.R, '-', label='r')\n",
    "decorate(xlabel='Time (idk)',\n",
    "         ylabel='AAAAAA',\n",
    "        title='R')\n"
   ]
  },
  {
   "cell_type": "code",
   "execution_count": 8,
   "metadata": {},
   "outputs": [
    {
     "data": {
      "image/png": "[encoded data removed]",
      "text/plain": [
       "<Figure size 432x288 with 1 Axes>"
      ]
     },
     "metadata": {
      "needs_background": "light"
     },
     "output_type": "display_data"
    }
   ],
   "source": [
    "plot(result.L, '-', label='l')\n",
    "decorate(xlabel='Time (idk)',\n",
    "         ylabel='AAAAAA',\n",
    "        title='L')\n"
   ]
  },
  {
   "cell_type": "code",
   "execution_count": 9,
   "metadata": {},
   "outputs": [
    {
     "data": {
      "image/png": "[encoded data removed]",
      "text/plain": [
       "<Figure size 432x288 with 1 Axes>"
      ]
     },
     "metadata": {
      "needs_background": "light"
     },
     "output_type": "display_data"
    }
   ],
   "source": [
    "plot(result.E, '-', label='e')\n",
    "decorate(xlabel='Time (idk)',\n",
    "         ylabel='AAAAAA',\n",
    "        title='E')\n"
   ]
  },
  {
   "cell_type": "code",
   "execution_count": 10,
   "metadata": {},
   "outputs": [
    {
     "data": {
      "image/png": "[encoded data removed]",
      "text/plain": [
       "<Figure size 432x288 with 1 Axes>"
      ]
     },
     "metadata": {
      "needs_background": "light"
     },
     "output_type": "display_data"
    }
   ],
   "source": [
    "plot(result.V, '-', label='v')\n",
    "decorate(xlabel='Time (idk)',\n",
    "         ylabel='AAAAAA',\n",
    "        title='V')"
   ]
  },
  {
   "cell_type": "code",
   "execution_count": null,
   "metadata": {},
   "outputs": [],
   "source": [
    "\n"
   ]
  },
  {
   "cell_type": "code",
   "execution_count": 11,
   "metadata": {},
   "outputs": [
    {
     "data": {
      "text/plain": [
       "array([0.000e+00, 1.000e+00, 2.000e+00, ..., 1.197e+03, 1.198e+03,\n",
       "       1.199e+03])"
      ]
     },
     "execution_count": 11,
     "metadata": {},
     "output_type": "execute_result"
    }
   ],
   "source": [
    " index_array=linrange(0, 1200, 1)"
   ]
  },
  {
   "cell_type": "code",
   "execution_count": 12,
   "metadata": {},
   "outputs": [
    {
     "data": {
      "text/plain": [
       "1200"
      ]
     },
     "execution_count": 12,
     "metadata": {},
     "output_type": "execute_result"
    }
   ],
   "source": [
    "len(index_array)"
   ]
  },
  {
   "cell_type": "code",
   "execution_count": null,
   "metadata": {},
   "outputs": [],
   "source": []
  }
 ],
 "metadata": {
  "kernelspec": {
   "display_name": "Python 3",
   "language": "python",
   "name": "python3"
  },
  "language_info": {
   "codemirror_mode": {
    "name": "ipython",
    "version": 3
   },
   "file_extension": ".py",
   "mimetype": "text/x-python",
   "name": "python",
   "nbconvert_exporter": "python",
   "pygments_lexer": "ipython3",
   "version": "3.6.6"
  }
 },
 "nbformat": 4,
 "nbformat_minor": 2
}
