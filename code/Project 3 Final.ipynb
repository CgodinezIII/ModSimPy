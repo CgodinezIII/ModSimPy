{
 "cells": [
  {
   "cell_type": "markdown",
   "metadata": {},
   "source": [
    "# Popping The Olin Bubble With A Hopper\n",
    "\n",
    "Project 3\n",
    "\n",
    "By Carlos Godinez and Pranavi Boyalakuntla "
   ]
  },
  {
   "cell_type": "code",
   "execution_count": 1,
   "metadata": {},
   "outputs": [],
   "source": [
    "# Configure Jupyter so figures appear in the notebook\n",
    "%matplotlib inline\n",
    "\n",
    "# Configure Jupyter to display the assigned value after an assignment\n",
    "%config InteractiveShell.ast_node_interactivity='last_expr_or_assign'\n",
    "\n",
    "# import functions from the modsim.py module\n",
    "from modsim import *\n",
    "from math import floor\n",
    "from IPython.display import Image"
   ]
  },
  {
   "cell_type": "markdown",
   "metadata": {},
   "source": [
    "## Question\n",
    "\n",
    "Cameron Balloons offers a special configuration of hot air balloons where the rider is strapped into a single occupancy suspension seat system called a “hopper”, a term that Olin students are all too familiar with. Additionally, many Olin students seem to have difficulty “popping” the Olin bubble and forget the importance of leaving our special little cult of ours every now and then. With this information in mind, we wanted to see what the maximum cross wind could be that would allow an Olin student to successfully and safely pop the Olin bubble in a hopper hot air balloon by avoiding hitting the Academic Center. "
   ]
  },
  {
   "cell_type": "markdown",
   "metadata": {},
   "source": [
    "## Method"
   ]
  },
  {
   "cell_type": "markdown",
   "metadata": {},
   "source": [
    "Our model considers the hot air balloon moving as a point mass with multiple forces acting upon it. This is the buoyant force ($F_b$), wind force ($F_b$), drag force ($F_d$), and weight ($F_g$). Velocity ($\\hat{v}$) is denoted as a vector resulting from the net force. \n"
   ]
  },
  {
   "cell_type": "code",
   "execution_count": 2,
   "metadata": {},
   "outputs": [
    {
     "data": {
      "image/png": "[encoded data removed]",
      "text/plain": [
       "<IPython.core.display.Image object>"
      ]
     },
     "execution_count": 2,
     "metadata": {},
     "output_type": "execute_result"
    }
   ],
   "source": [
    "Image(\"SchematicProject3.png\")"
   ]
  },
  {
   "cell_type": "markdown",
   "metadata": {},
   "source": [
    "We chose to model our ballon using specifications from Cameron Balloon’s Z-77 model. This values are detailed in the system object. \n",
    "\n",
    "The movement of the hot air balloon is based on from the temperature of the hot air in the ballon. Temperature affects density, which affects buoyant force, which affects the acceleration of the ballon. We start the the ballon being neutrally buoyant so that any increase in temperature will start to begin to accelerate the ballon upwards.\n",
    "\n",
    "The other forces on the ballon are drag, the cross wind, and weight of the ballon. An arbitrary number is chosen for wind speed for now until the answer to our question is calculated later.  Wind force is modeled to be a constant force. "
   ]
  },
  {
   "cell_type": "code",
   "execution_count": 3,
   "metadata": {},
   "outputs": [
    {
     "data": {
      "text/html": [
       "pascal"
      ],
      "text/latex": [
       "$pascal$"
      ],
      "text/plain": [
       "<Unit('pascal')>"
      ]
     },
     "execution_count": 3,
     "metadata": {},
     "output_type": "execute_result"
    }
   ],
   "source": [
    "# Create units for model\n",
    "m = UNITS.meter\n",
    "s = UNITS.seconds\n",
    "kg = UNITS.kilogram\n",
    "degree = UNITS.degree\n",
    "N = UNITS.newton\n",
    "K = UNITS.kelvin\n",
    "C = UNITS.celsius\n",
    "F = UNITS.fahrenheit\n",
    "W = UNITS.watt\n",
    "J = UNITS.joule\n",
    "Pa = UNITS.pascal"
   ]
  },
  {
   "cell_type": "markdown",
   "metadata": {},
   "source": [
    "The flight of the balloon is modelled in two stages, heating and cooling. During the heating phase the burner of the balloon is constantly on and during the cooling phase the burner is off and the balloon is allowed to cool. To model this we create two initial conditions and two systems. \n"
   ]
  },
  {
   "cell_type": "code",
   "execution_count": 4,
   "metadata": {},
   "outputs": [
    {
     "data": {
      "text/html": [
       "<div>\n",
       "<style scoped>\n",
       "    .dataframe tbody tr th:only-of-type {\n",
       "        vertical-align: middle;\n",
       "    }\n",
       "\n",
       "    .dataframe tbody tr th {\n",
       "        vertical-align: top;\n",
       "    }\n",
       "\n",
       "    .dataframe thead th {\n",
       "        text-align: right;\n",
       "    }\n",
       "</style>\n",
       "<table border=\"1\" class=\"dataframe\">\n",
       "  <thead>\n",
       "    <tr style=\"text-align: right;\">\n",
       "      <th></th>\n",
       "      <th>values</th>\n",
       "    </tr>\n",
       "  </thead>\n",
       "  <tbody>\n",
       "    <tr>\n",
       "      <th>T</th>\n",
       "      <td>385 kelvin</td>\n",
       "    </tr>\n",
       "    <tr>\n",
       "      <th>x</th>\n",
       "      <td>0 meter</td>\n",
       "    </tr>\n",
       "    <tr>\n",
       "      <th>y</th>\n",
       "      <td>0 meter</td>\n",
       "    </tr>\n",
       "    <tr>\n",
       "      <th>vx</th>\n",
       "      <td>0 meter / second</td>\n",
       "    </tr>\n",
       "    <tr>\n",
       "      <th>vy</th>\n",
       "      <td>0 meter / second</td>\n",
       "    </tr>\n",
       "  </tbody>\n",
       "</table>\n",
       "</div>"
      ],
      "text/plain": [
       "T           385 kelvin\n",
       "x              0 meter\n",
       "y              0 meter\n",
       "vx    0 meter / second\n",
       "vy    0 meter / second\n",
       "dtype: object"
      ]
     },
     "execution_count": 4,
     "metadata": {},
     "output_type": "execute_result"
    }
   ],
   "source": [
    "#Creates the inital state\n",
    "T_0 =  385 * K # Starting temperature to be neutrally buoyant\n",
    "x_0 = 0 *m\n",
    "y_0 = 0 * m \n",
    "vx_0 = 0 * (m/s)\n",
    "vy_0 = 0 * (m/s)\n",
    "\n",
    "init = State(T=T_0,\n",
    "            x=x_0,\n",
    "            y=y_0,\n",
    "            vx = vx_0,\n",
    "            vy=vy_0)"
   ]
  },
  {
   "cell_type": "code",
   "execution_count": 5,
   "metadata": {},
   "outputs": [
    {
     "data": {
      "text/html": [
       "<div>\n",
       "<style scoped>\n",
       "    .dataframe tbody tr th:only-of-type {\n",
       "        vertical-align: middle;\n",
       "    }\n",
       "\n",
       "    .dataframe tbody tr th {\n",
       "        vertical-align: top;\n",
       "    }\n",
       "\n",
       "    .dataframe thead th {\n",
       "        text-align: right;\n",
       "    }\n",
       "</style>\n",
       "<table border=\"1\" class=\"dataframe\">\n",
       "  <thead>\n",
       "    <tr style=\"text-align: right;\">\n",
       "      <th></th>\n",
       "      <th>values</th>\n",
       "    </tr>\n",
       "  </thead>\n",
       "  <tbody>\n",
       "    <tr>\n",
       "      <th>init</th>\n",
       "      <td>T           385 kelvin\n",
       "x              0 meter\n",
       "...</td>\n",
       "    </tr>\n",
       "    <tr>\n",
       "      <th>g</th>\n",
       "      <td>-9.8 meter / second ** 2</td>\n",
       "    </tr>\n",
       "    <tr>\n",
       "      <th>mass</th>\n",
       "      <td>613 kilogram</td>\n",
       "    </tr>\n",
       "    <tr>\n",
       "      <th>diameter</th>\n",
       "      <td>15 meter</td>\n",
       "    </tr>\n",
       "    <tr>\n",
       "      <th>volume</th>\n",
       "      <td>2200 meter ** 3</td>\n",
       "    </tr>\n",
       "    <tr>\n",
       "      <th>p_air</th>\n",
       "      <td>1.2 kilogram / meter ** 3</td>\n",
       "    </tr>\n",
       "    <tr>\n",
       "      <th>coeff_d</th>\n",
       "      <td>0.47</td>\n",
       "    </tr>\n",
       "    <tr>\n",
       "      <th>area</th>\n",
       "      <td>706.8 meter ** 2</td>\n",
       "    </tr>\n",
       "    <tr>\n",
       "      <th>gas_constant</th>\n",
       "      <td>287.05 joule / kelvin / kilogram</td>\n",
       "    </tr>\n",
       "    <tr>\n",
       "      <th>air_pressure</th>\n",
       "      <td>101325 pascal</td>\n",
       "    </tr>\n",
       "    <tr>\n",
       "      <th>wind_speed</th>\n",
       "      <td>25</td>\n",
       "    </tr>\n",
       "    <tr>\n",
       "      <th>t_0</th>\n",
       "      <td>0 second</td>\n",
       "    </tr>\n",
       "    <tr>\n",
       "      <th>t_end</th>\n",
       "      <td>120 second</td>\n",
       "    </tr>\n",
       "  </tbody>\n",
       "</table>\n",
       "</div>"
      ],
      "text/plain": [
       "init            T           385 kelvin\n",
       "x              0 meter\n",
       "...\n",
       "g                                        -9.8 meter / second ** 2\n",
       "mass                                                 613 kilogram\n",
       "diameter                                                 15 meter\n",
       "volume                                            2200 meter ** 3\n",
       "p_air                                   1.2 kilogram / meter ** 3\n",
       "coeff_d                                                      0.47\n",
       "area                                             706.8 meter ** 2\n",
       "gas_constant                     287.05 joule / kelvin / kilogram\n",
       "air_pressure                                        101325 pascal\n",
       "wind_speed                                                     25\n",
       "t_0                                                      0 second\n",
       "t_end                                                  120 second\n",
       "dtype: object"
      ]
     },
     "execution_count": 5,
     "metadata": {},
     "output_type": "execute_result"
    }
   ],
   "source": [
    "#create system object for heating phase of flight\n",
    "system1 = System(init = init,\n",
    "                g = -9.8 * m/s**2,\n",
    "                mass = 613 * kg,   #Mass of entire system including envelope, hopper system, fuel, passenger, and air inside ballon\n",
    "                diameter = 15 * m,     #diameter of the hopper hot air balloon\n",
    "                volume = 2200 * m**3,  #volume of hopper\n",
    "                p_air = 1.2 * kg/m**3, #density (rho) of dry air\n",
    "                coeff_d = 0.47,        #coefficient of drag\n",
    "                area = 706.8 * m**2,   #cross sectional area of ballon for drag and wind force \n",
    "                gas_constant = 287.05 * J/(kg * K), #gas constant for pressure equation\n",
    "                air_pressure = 101325 * Pa,       #constant air pressure \n",
    "                wind_speed = 25 , #wind speed for cross wind in m/s\n",
    "                t_0 = 0 *s,             #start time of simulation\n",
    "                t_end = 120 * s)        #end time of simulation"
   ]
  },
  {
   "cell_type": "markdown",
   "metadata": {},
   "source": [
    "We then create a function to model the change in density of air in the balloon based on the temperature. This was done using the equation $p_{air}=\\frac{p}{RT}$, where $p_{air}$ is density of air, $p$ is air pressure, $R$ is gas constant, and $T$ is temperature. This model assumes a constant pressure within the balloon (101325 $Pa$).\n"
   ]
  },
  {
   "cell_type": "code",
   "execution_count": 6,
   "metadata": {},
   "outputs": [],
   "source": [
    "def density_in(state, system):\n",
    "    \"\"\"Computes density of air inside ballon.\n",
    "    \n",
    "    state: State object with temperature, x and y postion, and x and y velocities\n",
    "    system: System object \n",
    "    \n",
    "    returns density of air in balloon in kg/m**3\n",
    "    \"\"\"\n",
    "    unpack(system1)\n",
    "    T, x, y, vx, vy = state\n",
    "    density_in = air_pressure / (gas_constant * T)\n",
    "    \n",
    "    return density_in"
   ]
  },
  {
   "cell_type": "code",
   "execution_count": 7,
   "metadata": {},
   "outputs": [
    {
     "data": {
      "text/html": [
       "0.9168500894681003 kilogram pascal/joule"
      ],
      "text/latex": [
       "$0.9168500894681003 \\frac{kilogram \\cdot pascal}{joule}$"
      ],
      "text/plain": [
       "<Quantity(0.9168500894681003, 'kilogram * pascal / joule')>"
      ]
     },
     "execution_count": 7,
     "metadata": {},
     "output_type": "execute_result"
    }
   ],
   "source": [
    "#testing density function with inital state\n",
    "density_in(init,system1)"
   ]
  },
  {
   "cell_type": "markdown",
   "metadata": {},
   "source": [
    "Using air density we can find the buoyant force on the balloon based on Archimedes Principle of Buoyancy. This is modeled with the equation $F_b=V(p_a - p_b)g$. $F_b$ is buoyant force, $V$ is volume of the ballon, $p_a$ is density of surrounding air, $p_b$ is density of air in balloon, and $g$ is acceleration due to gravity. Density of surrounding air is assumed to be constant (1.2$\\frac{kg}{m^3}$). "
   ]
  },
  {
   "cell_type": "code",
   "execution_count": 8,
   "metadata": {},
   "outputs": [],
   "source": [
    "def buoyant_force(state, system):\n",
    "    \"\"\"Computes buoyant force.\n",
    "\n",
    "    state: State object with temperature, x and y postion, and x and y velocities\n",
    "    system: System object \n",
    "    \n",
    "    returns buoyant force vector\n",
    "    \"\"\"\n",
    "    T, x, y, vx, vy = state\n",
    "    unpack(system1)\n",
    "    \n",
    "    d = Vector(0 * (m/s**2),-g) #create vector in opposite direction of gravity for upwards force\n",
    "    \n",
    "    balloon_density = density_in(state,system)\n",
    "    f_b_mag = volume * (p_air - balloon_density) * d.mag\n",
    "    direction = d.hat()\n",
    "    f_b = direction * f_b_mag #multiple by magnitude to create force vector\n",
    "    return f_b"
   ]
  },
  {
   "cell_type": "code",
   "execution_count": 9,
   "metadata": {},
   "outputs": [
    {
     "data": {
      "text/html": [
       "[   0.         6104.71207107] kilogram meter/second<sup>2</sup>"
      ],
      "text/latex": [
       "$[   0.         6104.71207107] \\frac{kilogram \\cdot meter}{second^{2}}$"
      ],
      "text/plain": [
       "<Quantity([   0.         6104.71207107], 'kilogram * meter / second ** 2')>"
      ]
     },
     "execution_count": 9,
     "metadata": {},
     "output_type": "execute_result"
    }
   ],
   "source": [
    "#testing buoyancy function with inital state\n",
    "buoyant_force(init, system1)"
   ]
  },
  {
   "cell_type": "markdown",
   "metadata": {},
   "source": [
    "Drag is then modeled using the equation $F_d=\\frac{C_dp_{air}Av^2}{2}$. $F_d$ is drag force, $C_d$ is coefficient of drag, $p_{air}$ is density of surrounding air, $A$ is reference area, and $v$ is velocity of the balloon. The balloon was modeled to be a sphere with the coeffcient of drag assumed to be 0.47 and the reference area being the cross sectional area of the sphere ($706.8  m^2$)."
   ]
  },
  {
   "cell_type": "code",
   "execution_count": 10,
   "metadata": {},
   "outputs": [],
   "source": [
    "def drag_force(state, system):\n",
    "    \"\"\"Computes drag force in the opposite direction of `V`.\n",
    "    \n",
    "    state: State object with temperature, x and y postion, and x and y velocities\n",
    "    V: velocity vector\n",
    "    system: System object\n",
    "    \n",
    "    returns: Vector drag force\n",
    "    \"\"\"\n",
    "    T, x, y, vx, vy = state\n",
    "    unpack(system1)\n",
    "    V = Vector(vx, vy) #creates vector of velocity\n",
    "    mag = p_air * V.mag**2 * coeff_d * area / 2\n",
    "    direction = -V.hat() #direction of drag always opposes direction of velocity\n",
    "    f_drag = direction * mag #mag multiplied by direction to get drag vector\n",
    "    return f_drag"
   ]
  },
  {
   "cell_type": "code",
   "execution_count": 11,
   "metadata": {},
   "outputs": [
    {
     "data": {
      "text/html": [
       "[0. 0.] kilogram meter/second<sup>2</sup>"
      ],
      "text/latex": [
       "$[0. 0.] \\frac{kilogram \\cdot meter}{second^{2}}$"
      ],
      "text/plain": [
       "<Quantity([0. 0.], 'kilogram * meter / second ** 2')>"
      ]
     },
     "execution_count": 11,
     "metadata": {},
     "output_type": "execute_result"
    }
   ],
   "source": [
    "#testing drag function with inital state\n",
    "drag_force(init,system1)"
   ]
  },
  {
   "cell_type": "markdown",
   "metadata": {},
   "source": [
    "Wind force was then calculated based on a constant wind speed. To model this we used the equation $F_w=AW_pC_d$. $F_w$ is force of the wind, $A$ is reference area, $C_d$ is drag coefficient, and $W_p$ is wind pressure. $W_p$ is calculated from the equation $0.613v^2$ where $v$ is velocity of the wind in $m/s$. To remove dimensionality errors, units were removed from wind speed. The force of wind was modeled to only act in the x direction.\n",
    "\n",
    "As stated before, the wind speed is chosen arbitrarily when first modeling the balloon and then later calculated to clear the AC.\n"
   ]
  },
  {
   "cell_type": "code",
   "execution_count": 12,
   "metadata": {},
   "outputs": [],
   "source": [
    "def wind_force(state, system):\n",
    "    \"\"\"Computes force of cross wind based on wind speed\n",
    "    \n",
    "    state: State object with temperature, x and y postion, and x and y velocities\n",
    "    system: System object\n",
    "    \n",
    "\n",
    "    returns: wind force vector\n",
    "    \"\"\"\n",
    "    \n",
    "    T, x, y, vx, vy = state\n",
    "    unpack(system1)\n",
    "    direction = Vector(1,0) #vector acting only in x direction\n",
    "    wind_pressure = (wind_speed**2) * 0.613 * (N/(m**2))\n",
    "    mag = area * coeff_d * 0.613 * wind_pressure\n",
    "    wind_force = direction * mag #creates wind force vector\n",
    "    \n",
    "    return wind_force"
   ]
  },
  {
   "cell_type": "code",
   "execution_count": 13,
   "metadata": {},
   "outputs": [
    {
     "data": {
      "text/html": [
       "[78018.0992025     0.       ] newton"
      ],
      "text/latex": [
       "$[78018.0992025     0.       ] newton$"
      ],
      "text/plain": [
       "<Quantity([78018.0992025     0.       ], 'newton')>"
      ]
     },
     "execution_count": 13,
     "metadata": {},
     "output_type": "execute_result"
    }
   ],
   "source": [
    "#testing wind force function with inital state\n",
    "wind_force(init,system1)"
   ]
  },
  {
   "cell_type": "markdown",
   "metadata": {},
   "source": [
    "All of the previous functions are then passed along into the slop function. The slope function calculates derivatives of the state to then be used in run_ode_solver. \n",
    "\n",
    "To model the change in temperature in the ballon, we used Adriana Gambín’s conclusions from their technical paper on the performance in hot air balloons that there is a net increase in temperature of 1 degree K for every second of burner activity and a loss of 0.256 degree K per second when the burner is off. For the first phase we model the burner on for the entire 2 minute duration.\n"
   ]
  },
  {
   "cell_type": "code",
   "execution_count": 14,
   "metadata": {},
   "outputs": [],
   "source": [
    "def slope_func_heat(state, t, system):\n",
    "    \"\"\"Computes derivatives of the state variables.\n",
    "    \n",
    "    state: State (x, y, x velocity, y velocity)\n",
    "    t: time\n",
    "    system: System object with g, rho, C_d, area, mass\n",
    "    \n",
    "    returns: derivatives of state\n",
    "    \"\"\"\n",
    "    T, x, y, vx, vy = state\n",
    "    unpack(system1)\n",
    "    \n",
    "    \n",
    "    dTdt = 1 #change in temperature for 1 second of burner activity\n",
    "    V = Vector(vx, vy)  \n",
    "    a_buoyant = buoyant_force(state, system) / mass #buoyancy vector divided by mass to get acceleration from force\n",
    "    a_wind = wind_force(state,system) / mass #wind vector divided by mass to get acceleration from force\n",
    "    a_drag = drag_force(state, system) / mass #drag vector divided by mass to get acceleration from force\n",
    "    a_grav = Vector(0, g) #gravity vector divided by mass to get acceleration from force\n",
    "    \n",
    "    a = a_grav + a_drag + a_wind + a_buoyant #adding all accelerations to get net acceleration\n",
    "   \n",
    "        \n",
    "    return dTdt, vx, vy, a.x, a.y"
   ]
  },
  {
   "cell_type": "code",
   "execution_count": 15,
   "metadata": {},
   "outputs": [
    {
     "data": {
      "text/plain": [
       "(1,\n",
       " <Quantity(0, 'meter / second')>,\n",
       " <Quantity(0, 'meter / second')>,\n",
       " <Quantity(127.2725925, 'meter / second ** 2')>,\n",
       " <Quantity(0.1587472611219507, 'meter / second ** 2')>)"
      ]
     },
     "execution_count": 15,
     "metadata": {},
     "output_type": "execute_result"
    }
   ],
   "source": [
    "#testing slope func for heating\n",
    "slope_func_heat(init, 0, system1)"
   ]
  },
  {
   "cell_type": "markdown",
   "metadata": {},
   "source": [
    "## Results 1"
   ]
  },
  {
   "cell_type": "markdown",
   "metadata": {},
   "source": [
    "We use run_ode_solver to obtain the results of the first phase of the simualtion where the burner is on for 2 minutes straight. We then plot the Y distance over time and the trajectory of the balloon. "
   ]
  },
  {
   "cell_type": "code",
   "execution_count": 16,
   "metadata": {},
   "outputs": [],
   "source": [
    "#running run_ode_solver with time step of 1 second \n",
    "ts = linrange(system1.t_0/s, system1.t_end/s, 1)\n",
    "results_heat, details = run_ode_solver(system1, slope_func_heat, t_eval = ts)"
   ]
  },
  {
   "cell_type": "code",
   "execution_count": 17,
   "metadata": {},
   "outputs": [
    {
     "data": {
      "image/png": "[encoded data removed]",
      "text/plain": [
       "<Figure size 432x288 with 1 Axes>"
      ]
     },
     "metadata": {
      "needs_background": "light"
     },
     "output_type": "display_data"
    }
   ],
   "source": [
    "results_heat.tail()\n",
    "plot(results_heat.y)\n",
    "decorate(title=\"Y Distance Over Time\",\n",
    "        xlabel = \"Time (s)\",\n",
    "        ylabel = \"Y Distance (m)\")"
   ]
  },
  {
   "cell_type": "code",
   "execution_count": 18,
   "metadata": {},
   "outputs": [
    {
     "data": {
      "image/png": "[encoded data removed]",
      "text/plain": [
       "<Figure size 432x288 with 1 Axes>"
      ]
     },
     "metadata": {
      "needs_background": "light"
     },
     "output_type": "display_data"
    }
   ],
   "source": [
    "plot(results_heat.x, results_heat.y)\n",
    "decorate(title = \"Trajectory of 2 Minute Heating Phase\",\n",
    "        xlabel = \"X distance (m)\",\n",
    "        ylabel = \"Y distance (m)\")"
   ]
  },
  {
   "cell_type": "markdown",
   "metadata": {},
   "source": [
    "## Method 2"
   ]
  },
  {
   "cell_type": "markdown",
   "metadata": {},
   "source": [
    "To begin the second phase of the model where the temperature inside the balloon is cooling off we create a new init and system object by grabbing the results from the first phase. "
   ]
  },
  {
   "cell_type": "code",
   "execution_count": 19,
   "metadata": {},
   "outputs": [
    {
     "data": {
      "text/html": [
       "<div>\n",
       "<style scoped>\n",
       "    .dataframe tbody tr th:only-of-type {\n",
       "        vertical-align: middle;\n",
       "    }\n",
       "\n",
       "    .dataframe tbody tr th {\n",
       "        vertical-align: top;\n",
       "    }\n",
       "\n",
       "    .dataframe thead th {\n",
       "        text-align: right;\n",
       "    }\n",
       "</style>\n",
       "<table border=\"1\" class=\"dataframe\">\n",
       "  <thead>\n",
       "    <tr style=\"text-align: right;\">\n",
       "      <th></th>\n",
       "      <th>values</th>\n",
       "    </tr>\n",
       "  </thead>\n",
       "  <tbody>\n",
       "    <tr>\n",
       "      <th>T</th>\n",
       "      <td>503.99999999999727 kelvin</td>\n",
       "    </tr>\n",
       "    <tr>\n",
       "      <th>x</th>\n",
       "      <td>2351.389860202032 meter</td>\n",
       "    </tr>\n",
       "    <tr>\n",
       "      <th>y</th>\n",
       "      <td>79.44025529795056 meter</td>\n",
       "    </tr>\n",
       "    <tr>\n",
       "      <th>vx</th>\n",
       "      <td>19.7568188031536 meter / second</td>\n",
       "    </tr>\n",
       "    <tr>\n",
       "      <th>vy</th>\n",
       "      <td>1.2053759083223126 meter / second</td>\n",
       "    </tr>\n",
       "  </tbody>\n",
       "</table>\n",
       "</div>"
      ],
      "text/plain": [
       "T             503.99999999999727 kelvin\n",
       "x               2351.389860202032 meter\n",
       "y               79.44025529795056 meter\n",
       "vx      19.7568188031536 meter / second\n",
       "vy    1.2053759083223126 meter / second\n",
       "dtype: object"
      ]
     },
     "execution_count": 19,
     "metadata": {},
     "output_type": "execute_result"
    }
   ],
   "source": [
    "t_0 = get_last_label(results_heat) * s\n",
    "T, x, y, vx, vy = get_last_value(results_heat)\n",
    "init2 = State(T=T*K, x=x*m, y=y*m, vx=vx*m/s, vy=vy*m/s)"
   ]
  },
  {
   "cell_type": "code",
   "execution_count": 20,
   "metadata": {},
   "outputs": [
    {
     "data": {
      "text/html": [
       "<div>\n",
       "<style scoped>\n",
       "    .dataframe tbody tr th:only-of-type {\n",
       "        vertical-align: middle;\n",
       "    }\n",
       "\n",
       "    .dataframe tbody tr th {\n",
       "        vertical-align: top;\n",
       "    }\n",
       "\n",
       "    .dataframe thead th {\n",
       "        text-align: right;\n",
       "    }\n",
       "</style>\n",
       "<table border=\"1\" class=\"dataframe\">\n",
       "  <thead>\n",
       "    <tr style=\"text-align: right;\">\n",
       "      <th></th>\n",
       "      <th>values</th>\n",
       "    </tr>\n",
       "  </thead>\n",
       "  <tbody>\n",
       "    <tr>\n",
       "      <th>init</th>\n",
       "      <td>T             503.99999999999727 kelvin\n",
       "x     ...</td>\n",
       "    </tr>\n",
       "    <tr>\n",
       "      <th>g</th>\n",
       "      <td>-9.8 meter / second ** 2</td>\n",
       "    </tr>\n",
       "    <tr>\n",
       "      <th>mass</th>\n",
       "      <td>613 kilogram</td>\n",
       "    </tr>\n",
       "    <tr>\n",
       "      <th>diameter</th>\n",
       "      <td>15 meter</td>\n",
       "    </tr>\n",
       "    <tr>\n",
       "      <th>volume</th>\n",
       "      <td>2200 meter ** 3</td>\n",
       "    </tr>\n",
       "    <tr>\n",
       "      <th>p_air</th>\n",
       "      <td>1.2 kilogram / meter ** 3</td>\n",
       "    </tr>\n",
       "    <tr>\n",
       "      <th>coeff_d</th>\n",
       "      <td>0.47</td>\n",
       "    </tr>\n",
       "    <tr>\n",
       "      <th>area</th>\n",
       "      <td>706.8 meter ** 2</td>\n",
       "    </tr>\n",
       "    <tr>\n",
       "      <th>gas_constant</th>\n",
       "      <td>287.05 joule / kelvin / kilogram</td>\n",
       "    </tr>\n",
       "    <tr>\n",
       "      <th>air_pressure</th>\n",
       "      <td>101325 pascal</td>\n",
       "    </tr>\n",
       "    <tr>\n",
       "      <th>wind_speed</th>\n",
       "      <td>25</td>\n",
       "    </tr>\n",
       "    <tr>\n",
       "      <th>t_0</th>\n",
       "      <td>119.0 second</td>\n",
       "    </tr>\n",
       "    <tr>\n",
       "      <th>t_end</th>\n",
       "      <td>5000 second</td>\n",
       "    </tr>\n",
       "  </tbody>\n",
       "</table>\n",
       "</div>"
      ],
      "text/plain": [
       "init            T             503.99999999999727 kelvin\n",
       "x     ...\n",
       "g                                        -9.8 meter / second ** 2\n",
       "mass                                                 613 kilogram\n",
       "diameter                                                 15 meter\n",
       "volume                                            2200 meter ** 3\n",
       "p_air                                   1.2 kilogram / meter ** 3\n",
       "coeff_d                                                      0.47\n",
       "area                                             706.8 meter ** 2\n",
       "gas_constant                     287.05 joule / kelvin / kilogram\n",
       "air_pressure                                        101325 pascal\n",
       "wind_speed                                                     25\n",
       "t_0                                                  119.0 second\n",
       "t_end                                                 5000 second\n",
       "dtype: object"
      ]
     },
     "execution_count": 20,
     "metadata": {},
     "output_type": "execute_result"
    }
   ],
   "source": [
    "system2 = System(system1, t_0=t_0, init=init2, t_end= 5000 *s)"
   ]
  },
  {
   "cell_type": "markdown",
   "metadata": {},
   "source": [
    "A new slope function to model the temperature cooling is then created. The temperature cools 0.256 degrees K for every second according to Gambín’s paper."
   ]
  },
  {
   "cell_type": "code",
   "execution_count": 21,
   "metadata": {},
   "outputs": [],
   "source": [
    "def slope_func_cool(state, t, system):\n",
    "    \"\"\"Computes derivatives of the state variables.\n",
    "    \n",
    "    state: State (x, y, x velocity, y velocity)\n",
    "    t: time\n",
    "    system: System object with g, rho, C_d, area, mass\n",
    "    \n",
    "    returns: derivatives of state\n",
    "    \"\"\"\n",
    "    T, x, y, vx, vy = state\n",
    "    unpack(system2)\n",
    "    \n",
    "    \n",
    "    dTdt = -0.256 #change in temperature for 1 second of no burner activity\n",
    "    V = Vector(vx, vy)  \n",
    "    a_buoyant = buoyant_force(state, system) / mass #buoyancy vector divided by mass to get acceleration from force\n",
    "    a_wind = wind_force(state,system) / mass #wind vector divided by mass to get acceleration from force\n",
    "    a_drag = drag_force(state, system) / mass #drag vector divided by mass to get acceleration from force\n",
    "    a_grav = Vector(0, g) #gravity vector divided by mass to get acceleration from force\n",
    "    \n",
    "    a = a_grav + a_drag + a_wind + a_buoyant #all acceleration vectors added together for net acceleration\n",
    "\n",
    "    return dTdt, vx, vy, a.x, a.y"
   ]
  },
  {
   "cell_type": "code",
   "execution_count": 22,
   "metadata": {},
   "outputs": [
    {
     "data": {
      "text/plain": [
       "(-0.256,\n",
       " <Quantity(0, 'meter / second')>,\n",
       " <Quantity(0, 'meter / second')>,\n",
       " <Quantity(127.2725925, 'meter / second ** 2')>,\n",
       " <Quantity(0.1587472611219507, 'meter / second ** 2')>)"
      ]
     },
     "execution_count": 22,
     "metadata": {},
     "output_type": "execute_result"
    }
   ],
   "source": [
    "#testing slope function for phase 2\n",
    "slope_func_cool(init, 0, system2)"
   ]
  },
  {
   "cell_type": "markdown",
   "metadata": {},
   "source": [
    "We then create an event function to stop run_ode_solver when the balloon hits the ground. "
   ]
  },
  {
   "cell_type": "code",
   "execution_count": 23,
   "metadata": {},
   "outputs": [],
   "source": [
    "def event_func(state, t, system):\n",
    "    \"\"\"Stops ode_solver when balloon hits ground\n",
    "    \"\"\"\n",
    "    T, x, y, vx, vy = state\n",
    "    return y"
   ]
  },
  {
   "cell_type": "markdown",
   "metadata": {},
   "source": [
    "## Results 2"
   ]
  },
  {
   "cell_type": "markdown",
   "metadata": {},
   "source": [
    "We then use run_ode_solver with our cooling slope function, new system, and new inital conditions to obtain the final results. The Y distance over time and trajectory are then plotted. "
   ]
  },
  {
   "cell_type": "code",
   "execution_count": 24,
   "metadata": {},
   "outputs": [
    {
     "data": {
      "text/html": [
       "<div>\n",
       "<style scoped>\n",
       "    .dataframe tbody tr th:only-of-type {\n",
       "        vertical-align: middle;\n",
       "    }\n",
       "\n",
       "    .dataframe tbody tr th {\n",
       "        vertical-align: top;\n",
       "    }\n",
       "\n",
       "    .dataframe thead th {\n",
       "        text-align: right;\n",
       "    }\n",
       "</style>\n",
       "<table border=\"1\" class=\"dataframe\">\n",
       "  <thead>\n",
       "    <tr style=\"text-align: right;\">\n",
       "      <th></th>\n",
       "      <th>T</th>\n",
       "      <th>x</th>\n",
       "      <th>y</th>\n",
       "      <th>vx</th>\n",
       "      <th>vy</th>\n",
       "    </tr>\n",
       "  </thead>\n",
       "  <tbody>\n",
       "    <tr>\n",
       "      <th>1019.0</th>\n",
       "      <td>273.600</td>\n",
       "      <td>20148.061984</td>\n",
       "      <td>8.455731</td>\n",
       "      <td>19.740315</td>\n",
       "      <td>-2.010813</td>\n",
       "    </tr>\n",
       "    <tr>\n",
       "      <th>1020.0</th>\n",
       "      <td>273.344</td>\n",
       "      <td>20167.795480</td>\n",
       "      <td>6.442320</td>\n",
       "      <td>19.738940</td>\n",
       "      <td>-2.017262</td>\n",
       "    </tr>\n",
       "    <tr>\n",
       "      <th>1021.0</th>\n",
       "      <td>273.088</td>\n",
       "      <td>20187.528844</td>\n",
       "      <td>4.422330</td>\n",
       "      <td>19.734960</td>\n",
       "      <td>-2.023456</td>\n",
       "    </tr>\n",
       "    <tr>\n",
       "      <th>1022.0</th>\n",
       "      <td>272.832</td>\n",
       "      <td>20207.261992</td>\n",
       "      <td>2.395756</td>\n",
       "      <td>19.729397</td>\n",
       "      <td>-2.029496</td>\n",
       "    </tr>\n",
       "    <tr>\n",
       "      <th>1023.0</th>\n",
       "      <td>272.576</td>\n",
       "      <td>20226.994841</td>\n",
       "      <td>0.362595</td>\n",
       "      <td>19.723329</td>\n",
       "      <td>-2.035492</td>\n",
       "    </tr>\n",
       "  </tbody>\n",
       "</table>\n",
       "</div>"
      ],
      "text/plain": [
       "              T             x         y         vx        vy\n",
       "1019.0  273.600  20148.061984  8.455731  19.740315 -2.010813\n",
       "1020.0  273.344  20167.795480  6.442320  19.738940 -2.017262\n",
       "1021.0  273.088  20187.528844  4.422330  19.734960 -2.023456\n",
       "1022.0  272.832  20207.261992  2.395756  19.729397 -2.029496\n",
       "1023.0  272.576  20226.994841  0.362595  19.723329 -2.035492"
      ]
     },
     "execution_count": 24,
     "metadata": {},
     "output_type": "execute_result"
    }
   ],
   "source": [
    "#running run_ode_solver with time step of 1 second \n",
    "ts = linrange(system2.t_0/s, system2.t_end/s, 1)\n",
    "results_cool, details = run_ode_solver(system2, slope_func_cool, t_eval = ts, events=event_func)\n",
    "results_cool.tail()"
   ]
  },
  {
   "cell_type": "code",
   "execution_count": 25,
   "metadata": {},
   "outputs": [
    {
     "data": {
      "image/png": "[encoded data removed]",
      "text/plain": [
       "<Figure size 432x288 with 1 Axes>"
      ]
     },
     "metadata": {
      "needs_background": "light"
     },
     "output_type": "display_data"
    }
   ],
   "source": [
    "plot(results_cool.y)\n",
    "decorate(title = \"Y Distance Over Time\",\n",
    "        xlabel = \"Time (s)\",\n",
    "        ylabel = \"Y Distance (m)\")"
   ]
  },
  {
   "cell_type": "code",
   "execution_count": 32,
   "metadata": {},
   "outputs": [
    {
     "data": {
      "image/png": "[encoded data removed]",
      "text/plain": [
       "<Figure size 432x288 with 1 Axes>"
      ]
     },
     "metadata": {
      "needs_background": "light"
     },
     "output_type": "display_data"
    }
   ],
   "source": [
    "plot(results_cool.x, results_cool.y)\n",
    "decorate(title = \"Cooling Phase Trajectory\",\n",
    "        xlabel = \"X Distance (m)\",\n",
    "        ylabel = \"Y Distance (m)\")"
   ]
  },
  {
   "cell_type": "markdown",
   "metadata": {},
   "source": [
    "We then take the results from both phases of the simulation and combine them and plot this trajectory. "
   ]
  },
  {
   "cell_type": "code",
   "execution_count": 33,
   "metadata": {},
   "outputs": [
    {
     "data": {
      "image/png": "[encoded data removed]",
      "text/plain": [
       "<Figure size 432x288 with 1 Axes>"
      ]
     },
     "metadata": {
      "needs_background": "light"
     },
     "output_type": "display_data"
    }
   ],
   "source": [
    "results = results_cool.combine_first(results_heat)\n",
    "plot(results.x, results.y)\n",
    "decorate(title = \"Complete Flight Trajectory\",\n",
    "        xlabel = \"X Distance (m)\",\n",
    "        ylabel = \"Y Distance (m)\")\n"
   ]
  },
  {
   "cell_type": "markdown",
   "metadata": {},
   "source": [
    "## Method 3"
   ]
  },
  {
   "cell_type": "markdown",
   "metadata": {},
   "source": [
    "We now can calculate the maximum windspeed a hot air balloon launching from the “O” can experience without hitting the AC. We create an event function that stop the first phase of the simulation after the balloon has travelled 28 meters in the x direction. This is the distance from the center of the “O” to the closest building. If the balloon can ascend fast enough to clear the AC then it does not matter which direction the wind comes from since all other building are further away. \n"
   ]
  },
  {
   "cell_type": "code",
   "execution_count": 27,
   "metadata": {},
   "outputs": [],
   "source": [
    "def AC_event_func(state, t, system):\n",
    "    \"\"\"Event function that stops the simulation after traveling 28 meters in the x direction\n",
    "    \"\"\"\n",
    "    T, x, y, vx, vy = state\n",
    "    return x - 28"
   ]
  },
  {
   "cell_type": "markdown",
   "metadata": {},
   "source": [
    "Next we create a height function that calculates the height the balloon will reach with various wind speeds after traveling 28 meters."
   ]
  },
  {
   "cell_type": "code",
   "execution_count": 28,
   "metadata": {},
   "outputs": [],
   "source": [
    "def height_func(wind_speed, system):\n",
    "    \"\"\"Computes the height of the ballon when it reaches the AC.\n",
    "    \n",
    "    wind_speed: wind speed in m/s\n",
    "    system: System object\n",
    "    \n",
    "    returns: height in meters\n",
    "    \"\"\"    \n",
    "    system.wind_speed = wind_speed\n",
    "    results, details = run_ode_solver(system, slope_func_heat, events=AC_event_func)\n",
    "    height = get_last_value(results.y)\n",
    "    \n",
    "    return height"
   ]
  },
  {
   "cell_type": "code",
   "execution_count": 34,
   "metadata": {},
   "outputs": [
    {
     "data": {
      "text/plain": [
       "94.72633813776339"
      ]
     },
     "execution_count": 34,
     "metadata": {},
     "output_type": "execute_result"
    }
   ],
   "source": [
    "#testing height function\n",
    "height_func(1.5, system1)"
   ]
  },
  {
   "cell_type": "markdown",
   "metadata": {},
   "source": [
    "Lastly we create an error function to calculate the difference in height from the height function and the height needed to clear the AC (18.9 meters). "
   ]
  },
  {
   "cell_type": "code",
   "execution_count": 30,
   "metadata": {},
   "outputs": [],
   "source": [
    "def error_func(wind_speed, system):\n",
    "    \"\"\"Returns the height at the AC minus the target height.\n",
    "    \n",
    "    velocity: initial velocity in m/s\n",
    "    params: Params object\n",
    "    \n",
    "    returns: height difference in meters\n",
    "    \"\"\"    \n",
    "    system.wind_speed = wind_speed\n",
    "    height = height_func(wind_speed,system)\n",
    "    return abs(18.9 - height)"
   ]
  },
  {
   "cell_type": "markdown",
   "metadata": {},
   "source": [
    "## Results 3"
   ]
  },
  {
   "cell_type": "markdown",
   "metadata": {},
   "source": [
    "To find the final answer to our question, we use min_bounded to minimize the error function and find that the largest wind speed that a balloon launching from the \"O\" is 2.37 meters per second (5.03 miles per hour)."
   ]
  },
  {
   "cell_type": "code",
   "execution_count": 35,
   "metadata": {},
   "outputs": [
    {
     "data": {
      "text/html": [
       "<div>\n",
       "<style scoped>\n",
       "    .dataframe tbody tr th:only-of-type {\n",
       "        vertical-align: middle;\n",
       "    }\n",
       "\n",
       "    .dataframe tbody tr th {\n",
       "        vertical-align: top;\n",
       "    }\n",
       "\n",
       "    .dataframe thead th {\n",
       "        text-align: right;\n",
       "    }\n",
       "</style>\n",
       "<table border=\"1\" class=\"dataframe\">\n",
       "  <thead>\n",
       "    <tr style=\"text-align: right;\">\n",
       "      <th></th>\n",
       "      <th>values</th>\n",
       "    </tr>\n",
       "  </thead>\n",
       "  <tbody>\n",
       "    <tr>\n",
       "      <th>fun</th>\n",
       "      <td>0.00349407</td>\n",
       "    </tr>\n",
       "    <tr>\n",
       "      <th>status</th>\n",
       "      <td>0</td>\n",
       "    </tr>\n",
       "    <tr>\n",
       "      <th>success</th>\n",
       "      <td>True</td>\n",
       "    </tr>\n",
       "    <tr>\n",
       "      <th>message</th>\n",
       "      <td>Solution found.</td>\n",
       "    </tr>\n",
       "    <tr>\n",
       "      <th>x</th>\n",
       "      <td>2.37686</td>\n",
       "    </tr>\n",
       "    <tr>\n",
       "      <th>nfev</th>\n",
       "      <td>17</td>\n",
       "    </tr>\n",
       "  </tbody>\n",
       "</table>\n",
       "</div>"
      ],
      "text/plain": [
       "fun             0.00349407\n",
       "status                   0\n",
       "success               True\n",
       "message    Solution found.\n",
       "x                  2.37686\n",
       "nfev                    17\n",
       "dtype: object"
      ]
     },
     "execution_count": 35,
     "metadata": {},
     "output_type": "execute_result"
    }
   ],
   "source": [
    "min_bounded(error_func, [0,4.4], system1)"
   ]
  },
  {
   "cell_type": "markdown",
   "metadata": {},
   "source": [
    "## Interpretation"
   ]
  },
  {
   "cell_type": "markdown",
   "metadata": {},
   "source": [
    "Our model gives a reasonable output that makes sense. It is sensible that cross winds would have such a large effect on hot air balloons as they have such a large area to act upon and are not very aerodynamic. This leads to even the smallest breeze to have a large effect on the balloon. Our output of the maximum speed being just over 5 miles per hour seems very realistic seeing that ideal wind speed conditions to fly hot air balloons are in the 4-6 miles per hour range with the upper limits of what is safe being 8-10 miles per hour. "
   ]
  },
  {
   "cell_type": "markdown",
   "metadata": {},
   "source": [
    "\n",
    "Our model does make some assumptions that could potentially have large effects on the performance, most prominently being the assumption of constant air pressure inside of the balloon. Future models could include this to have a more accurate model. Additionally, hot air balloon burners are not capable of being on for 2 minutes straight. For our model of wanting to ascend above the AC as fast as possible, it is feasible for a modern burner to be capable of a straight burn to ascend 18.9 meters, but past this would likely lead to damage to the balloon/and or burner. A future iteration could include on and off cycling of the burner during both ascending and descending so the balloon does not end with a free fall into the ground.\n"
   ]
  },
  {
   "cell_type": "markdown",
   "metadata": {},
   "source": [
    "Iterations of this model began with a simple two force model of just buoyancy and weight and then led to new interactions including drag and cross winds. "
   ]
  }
 ],
 "metadata": {
  "kernelspec": {
   "display_name": "Python 3",
   "language": "python",
   "name": "python3"
  },
  "language_info": {
   "codemirror_mode": {
    "name": "ipython",
    "version": 3
   },
   "file_extension": ".py",
   "mimetype": "text/x-python",
   "name": "python",
   "nbconvert_exporter": "python",
   "pygments_lexer": "ipython3",
   "version": "3.6.6"
  }
 },
 "nbformat": 4,
 "nbformat_minor": 2
}
